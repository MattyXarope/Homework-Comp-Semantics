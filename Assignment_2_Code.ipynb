{
  "nbformat": 4,
  "nbformat_minor": 0,
  "metadata": {
    "colab": {
      "name": "Assignment 2 - Code.ipynb",
      "provenance": [],
      "collapsed_sections": [
        "X1kiZfEVK8Th",
        "4Bvpxa_PLLNM"
      ],
      "include_colab_link": true
    },
    "kernelspec": {
      "display_name": "Python 3",
      "name": "python3"
    },
    "language_info": {
      "name": "python"
    }
  },
  "cells": [
    {
      "cell_type": "markdown",
      "metadata": {
        "id": "view-in-github",
        "colab_type": "text"
      },
      "source": [
        "<a href=\"https://colab.research.google.com/github/MattyXarope/Homework-Comp-Semantics/blob/main/Assignment_2_Code.ipynb\" target=\"_parent\"><img src=\"https://colab.research.google.com/assets/colab-badge.svg\" alt=\"Open In Colab\"/></a>"
      ]
    },
    {
      "cell_type": "markdown",
      "metadata": {
        "id": "KEnSJ30oLXat"
      },
      "source": [
        "# Import Packages"
      ]
    },
    {
      "cell_type": "code",
      "metadata": {
        "colab": {
          "base_uri": "https://localhost:8080/"
        },
        "id": "KGPxhD8PCrHm",
        "outputId": "b08f8ee6-25dd-4621-f361-29eb69558cba"
      },
      "source": [
        "# -*- coding: utf-8 -*- \n",
        "import nltk\n",
        "nltk.download('wordnet')\n",
        "nltk.download('word2vec_sample')\n",
        "from nltk.corpus import wordnet \n",
        "import pandas as pd\n",
        "import gensim\n",
        "from matplotlib import pyplot as plt\n",
        "import numpy as np\n",
        "import base64\n",
        "import requests"
      ],
      "execution_count": 82,
      "outputs": [
        {
          "output_type": "stream",
          "name": "stdout",
          "text": [
            "[nltk_data] Downloading package wordnet to /root/nltk_data...\n",
            "[nltk_data]   Package wordnet is already up-to-date!\n",
            "[nltk_data] Downloading package word2vec_sample to /root/nltk_data...\n",
            "[nltk_data]   Package word2vec_sample is already up-to-date!\n"
          ]
        }
      ]
    },
    {
      "cell_type": "markdown",
      "metadata": {
        "id": "X1kiZfEVK8Th"
      },
      "source": [
        "# Exercise 1"
      ]
    },
    {
      "cell_type": "code",
      "metadata": {
        "colab": {
          "base_uri": "https://localhost:8080/"
        },
        "id": "grcHEvqOC0Mq",
        "outputId": "a5703c61-26d6-4352-9c2d-2b308347c639"
      },
      "source": [
        "## Exercise 1 ##\n",
        "\n",
        "#Tests to see how many senses there are for the word language \n",
        "word = 'language'\n",
        "synsets = wordnet.synsets(word, lang=\"eng\")\n",
        "n_synsets = len(synsets)\n",
        "\n",
        "#Prints information about synsets for the word \n",
        "print(f'Lemma English: {word}')\n",
        "print(f'Number of synsets: {n_synsets}')\n",
        "print(f'Synsets details: ')\n",
        "for ss in synsets:\n",
        "    print(f'Name: {ss.name()}')\n",
        "    print(f'Gloss: {ss.definition()}')\n",
        "    print(f'Lemmas English: {ss.lemmas()}')\n",
        "    print(f'\\n')\n",
        "    \n",
        "#Establishes a concordance list for the word language in the Brown corpus (commented out due to use of sketch engine)\n",
        "# corpus = brown.words()\n",
        "# text = Text(corpus)\n",
        "# con_list = text.concordance_list(\"language\", width=250, lines=100)\n",
        "# df = pd.DataFrame(data={\"Utterance\": con_list})\n",
        "# df.to_csv(\"./Brown100.csv\", sep=',',index=False)\n",
        "\n",
        "#Adds file from SketchEngine of 100 instances of 'language' in the Brown corpus \n",
        "\n",
        "CSV_BROWN = \"https://raw.githubusercontent.com/MattyXarope/Homework-Comp-Semantics/main/Brown100Final.csv\"\n",
        "lang_syn = pd.read_csv(CSV_BROWN)\n",
        "\n",
        "#Create contigency table using data from lang_syn\n",
        "adelle = lang_syn['adelle']\n",
        "matt = lang_syn['matt']\n",
        "annotations = pd.DataFrame({'Adelle': adelle, 'Matt': matt})\n",
        "\n",
        "#Print contigency table data\n",
        "print(f'******************\\n')\n",
        "print('contingency table: ')\n",
        "print(f'******************\\n\\n')\n",
        "# note the 'margins=True' parameter -- make sure you understand what it does\n",
        "print(pd.crosstab(annotations['Adelle'], annotations['Matt'], margins=True))"
      ],
      "execution_count": 83,
      "outputs": [
        {
          "output_type": "stream",
          "name": "stdout",
          "text": [
            "Lemma English: language\n",
            "Number of synsets: 6\n",
            "Synsets details: \n",
            "Name: language.n.01\n",
            "Gloss: a systematic means of communicating by the use of sounds or conventional symbols\n",
            "Lemmas English: [Lemma('language.n.01.language'), Lemma('language.n.01.linguistic_communication')]\n",
            "\n",
            "\n",
            "Name: speech.n.02\n",
            "Gloss: (language) communication by word of mouth\n",
            "Lemmas English: [Lemma('speech.n.02.speech'), Lemma('speech.n.02.speech_communication'), Lemma('speech.n.02.spoken_communication'), Lemma('speech.n.02.spoken_language'), Lemma('speech.n.02.language'), Lemma('speech.n.02.voice_communication'), Lemma('speech.n.02.oral_communication')]\n",
            "\n",
            "\n",
            "Name: lyric.n.01\n",
            "Gloss: the text of a popular song or musical-comedy number\n",
            "Lemmas English: [Lemma('lyric.n.01.lyric'), Lemma('lyric.n.01.words'), Lemma('lyric.n.01.language')]\n",
            "\n",
            "\n",
            "Name: linguistic_process.n.02\n",
            "Gloss: the cognitive processes involved in producing and understanding linguistic communication\n",
            "Lemmas English: [Lemma('linguistic_process.n.02.linguistic_process'), Lemma('linguistic_process.n.02.language')]\n",
            "\n",
            "\n",
            "Name: language.n.05\n",
            "Gloss: the mental faculty or power of vocal communication\n",
            "Lemmas English: [Lemma('language.n.05.language'), Lemma('language.n.05.speech')]\n",
            "\n",
            "\n",
            "Name: terminology.n.01\n",
            "Gloss: a system of words used to name things in a particular discipline\n",
            "Lemmas English: [Lemma('terminology.n.01.terminology'), Lemma('terminology.n.01.nomenclature'), Lemma('terminology.n.01.language')]\n",
            "\n",
            "\n",
            "******************\n",
            "\n",
            "contingency table: \n",
            "******************\n",
            "\n",
            "\n",
            "Matt    s1  s2  s3  s4  s5  s6  All\n",
            "Adelle                             \n",
            "s1      53  10   0   3   0   4   70\n",
            "s2       7   1   0   0   0   0    8\n",
            "s3       0   0   1   0   0   0    1\n",
            "s4       4   0   0   0   0   0    4\n",
            "s5       2   0   0   0   1   1    4\n",
            "s6       0   5   0   0   0   8   13\n",
            "All     66  16   1   3   1  13  100\n"
          ]
        }
      ]
    },
    {
      "cell_type": "markdown",
      "metadata": {
        "id": "4Bvpxa_PLLNM"
      },
      "source": [
        "# Exercise 2"
      ]
    },
    {
      "cell_type": "code",
      "metadata": {
        "colab": {
          "base_uri": "https://localhost:8080/"
        },
        "id": "ZhuJT2dCDJFp",
        "outputId": "d409d422-8d1a-40b9-d0bf-f92067f262c4"
      },
      "source": [
        "## Exercise 2 ## \n",
        "\n",
        "#Does some calculations about the data from part 1\n",
        "\n",
        "#S1 Info\n",
        "#Gloss: a systematic means of communicating by the use of sounds or conventional symbols\n",
        "#Percent of all utterances \n",
        "all_percentS1 = (53/100)*100\n",
        "print(f'S1 was agreed upon by both annotators in {all_percentS1}% of all utterances')\n",
        "\n",
        "#S2 Info\n",
        "#Gloss: (language) communication by word of mouth\n",
        "#Percent of all utterances \n",
        "all_percentS2 = (1/100)*100\n",
        "print(f'S2 was agreed upon by both annotators in {all_percentS2}% of all utterances')\n",
        "\n",
        "#S3 Info\n",
        "#Gloss: the text of a popular song or musical-comedy number\n",
        "#Percent of all utterances \n",
        "all_percentS3 = (1/100)*100\n",
        "print(f'S3 was agreed upon by both annotators in {all_percentS3}% of all utterances')\n",
        "\n",
        "#S4 Info\n",
        "#Gloss: the cognitive processes involved in producing and understanding linguistic communication\n",
        "#Percent of all utterances \n",
        "all_percentS4 = (0/100)*100\n",
        "print(f'S4 was agreed upon by both annotators in {all_percentS4}% of all utterances')\n",
        "\n",
        "#S5 Info\n",
        "#Gloss: the mental faculty or power of vocal communication\n",
        "#Percent of all utterances \n",
        "all_percentS5 = (1/100)*100\n",
        "print(f'S5 was agreed upon by both annotators in {all_percentS5}% of all utterances')\n",
        "\n",
        "#S6 Info\n",
        "#Gloss: a system of words used to name things in a particular discipline\n",
        "#Percent of all utterances \n",
        "all_percentS6 = (8/100)*100\n",
        "print(f'S6 was agreed upon by both annotators in {all_percentS6}% of all utterances')\n",
        "\n",
        "#Print General Info for this section\n",
        "all_agreements = all_percentS1 + all_percentS2 + all_percentS3 + all_percentS4 + all_percentS5 + all_percentS6\n",
        "print(f'The annotators agreed on {all_agreements}% of all utterances')"
      ],
      "execution_count": 84,
      "outputs": [
        {
          "output_type": "stream",
          "name": "stdout",
          "text": [
            "S1 was agreed upon by both annotators in 53.0% of all utterances\n",
            "S2 was agreed upon by both annotators in 1.0% of all utterances\n",
            "S3 was agreed upon by both annotators in 1.0% of all utterances\n",
            "S4 was agreed upon by both annotators in 0.0% of all utterances\n",
            "S5 was agreed upon by both annotators in 1.0% of all utterances\n",
            "S6 was agreed upon by both annotators in 8.0% of all utterances\n",
            "The annotators agreed on 64.0% of all utterances\n"
          ]
        }
      ]
    },
    {
      "cell_type": "markdown",
      "metadata": {
        "id": "Bc89QxxkLQzV"
      },
      "source": [
        "# Exercise 3"
      ]
    },
    {
      "cell_type": "code",
      "metadata": {
        "id": "BTwY0cc9DaY5",
        "colab": {
          "base_uri": "https://localhost:8080/",
          "height": 351
        },
        "outputId": "4888f3b2-d5b9-4c24-d22d-71d36b6a934e"
      },
      "source": [
        "## Exercise 3 ## \n",
        "\n",
        "#Sets path for word2vec models\n",
        "path_to_word2vec_sample = nltk.data.find('models/word2vec_sample/pruned.word2vec.txt')\n",
        "word2vec_gensim = gensim.models.KeyedVectors.load_word2vec_format(path_to_word2vec_sample)\n",
        "\n",
        "###Determines synonyms/antonyms###\n",
        "\n",
        "#Extracts the synonyms and hyponyms from wordnet\n",
        "lemmas=[]\n",
        "synonyms=[]\n",
        "antonyms=[]\n",
        "\n",
        "for word in wordnet.words(): \n",
        "    for syn in wordnet.synsets(word)[5:]: \n",
        "      for l in syn.lemmas():\n",
        "        if len(wordnet.synsets(word)) > 0 and len(l.antonyms()) > 0: \n",
        "          lemmas.append(syn.lemma_names()[0]) \n",
        "          synonyms.append(wordnet.synsets(word)[0].lemma_names()[0])\n",
        "          if l.antonyms():\n",
        "            antonyms.append(l.antonyms()[0].name())\n",
        "\n",
        "#Fucntion to compare the cosine similarites in word2vec \n",
        "def cosine_gensim(list1, list2):\n",
        "  similarities = []\n",
        "  for elem1,elem2 in zip(list1,list2):\n",
        "    if elem1 in word2vec_gensim and elem2 in word2vec_gensim:\n",
        "      similarities.append(word2vec_gensim.similarity(elem1, elem2))  \n",
        "  return similarities\n",
        "\n",
        "\n",
        "#This just pairs them down to 500 data points\n",
        "synonyms500 = synonyms[:500]\n",
        "antonyms500 = antonyms[:500]\n",
        "\n",
        "#Gets the cosine similarity of the two groups \n",
        "syns_similar = cosine_gensim(lemmas, synonyms500)\n",
        "ants_similar = cosine_gensim(lemmas, antonyms500)\n",
        "\n",
        "\n",
        "###Determines hypo/hypernyms###\n",
        "\n",
        "#Extracts the hypernyms and hyponyms from wordnet \n",
        "lemmas2=[]\n",
        "hypernyms=[]\n",
        "hyponyms=[]\n",
        "\n",
        "for word in wordnet.words(): \n",
        "    for syn in wordnet.synsets(word)[5:]: \n",
        "      for l in syn.lemmas():\n",
        "        if len(syn.hypernyms()) > 0 and len(syn.hyponyms()) > 0: \n",
        "          lemmas2.append(syn.lemma_names()[0]) \n",
        "          hypernyms.append(syn.hypernyms()[0].lemma_names()[0])\n",
        "          hyponyms.append(syn.hyponyms()[0].lemma_names()[0])\n",
        "\n",
        "#This just pairs them down to 500 data points\n",
        "hypernyms500 = hypernyms[:500]\n",
        "hyponyms500 = hyponyms[:500]\n",
        "\n",
        "#Gets the cosine similarity of the two groups \n",
        "hyper_similar = cosine_gensim(lemmas2, hypernyms500)\n",
        "hypo_similar = cosine_gensim(lemmas2, hyponyms500)\n",
        "\n",
        "#Plot for cosine info\n",
        "fig, ax = plt.subplots()\n",
        "ax.boxplot([syns_similar, ants_similar, hyper_similar, hypo_similar], widths=0.5)\n",
        "plt.xticks([1, 2, 3, 4], ['Synonyms', 'Antonyms', 'Hypernyms', 'Hyponyms'])\n",
        "plt.xlabel(\"Distribution\")\n",
        "plt.ylabel(\"Similarity\")"
      ],
      "execution_count": 85,
      "outputs": [
        {
          "output_type": "stream",
          "name": "stderr",
          "text": [
            "/usr/local/lib/python3.7/dist-packages/numpy/core/_asarray.py:83: VisibleDeprecationWarning: Creating an ndarray from ragged nested sequences (which is a list-or-tuple of lists-or-tuples-or ndarrays with different lengths or shapes) is deprecated. If you meant to do this, you must specify 'dtype=object' when creating the ndarray\n",
            "  return array(a, dtype, copy=False, order=order)\n"
          ]
        },
        {
          "output_type": "execute_result",
          "data": {
            "text/plain": [
              "Text(0, 0.5, 'Similarity')"
            ]
          },
          "metadata": {},
          "execution_count": 85
        },
        {
          "output_type": "display_data",
          "data": {
            "image/png": "[encoded data removed]",
            "text/plain": [
              "<Figure size 432x288 with 1 Axes>"
            ]
          },
          "metadata": {
            "needs_background": "light"
          }
        }
      ]
    },
    {
      "cell_type": "code",
      "metadata": {
        "colab": {
          "base_uri": "https://localhost:8080/"
        },
        "id": "o70I1GBbjSGL",
        "outputId": "28cb7d22-35b4-42ac-bb43-ee45f5fd02b3"
      },
      "source": [
        "#Some calculations for the data and analysis \n",
        "\n",
        "print(\"Data Analysis for Exercise 3:\")\n",
        "print(f'\\n')\n",
        "\n",
        "#Calculates means of data for each category\n",
        "synsim = round(np.mean(cosine_gensim(lemmas, synonyms500))*100)\n",
        "antsim = round(np.mean(cosine_gensim(lemmas, antonyms500))*100)\n",
        "hypersim = round(np.mean(cosine_gensim(lemmas2, hypernyms500))*100)\n",
        "hyposim = round(np.mean(cosine_gensim(lemmas2, hyponyms500))*100)\n",
        "\n",
        "print(f'Synonyms show a {synsim}% similarity to their lemmas')\n",
        "print(f'Antonyms show a {antsim}% similarity to their lemmas')\n",
        "print(f'Hypernyms show a {hypersim}% similarity to their lemmas')\n",
        "print(f'Hyponyms show a {hyposim}% similarity to their lemmas')\n",
        "print(f'There is a {synsim-antsim}% difference between the similarities of synonyms and antonyms')\n",
        "print(f'There is a {hypersim-hyposim}% difference between the similarities of hypernyms and hyponyms')\n",
        "print(f'\\n')\n",
        "\n",
        "\n",
        "#Data analysis for hypothesis explanations for part 3\n",
        "print(\"Data Analysis for Hypotheses Explanations in Exercise 3:\")\n",
        "print(f'\\n')\n",
        "\n",
        "#Calcuation for 'good' in hypothesis 1 explanation\n",
        "lemmas=[]\n",
        "synonyms=[]\n",
        "antonyms=[]\n",
        "\n",
        "word=\"good\"\n",
        "for syn in wordnet.synsets(word):\n",
        "  for l in syn.lemmas():\n",
        "    if len(wordnet.synsets(word)) > 0 and len(l.antonyms()) > 0:\n",
        "      lemmas.append(syn.lemma_names()[0])\n",
        "      synonyms.append(wordnet.synsets(word)[0].lemma_names()[0])\n",
        "      if l.antonyms():\n",
        "        antonyms.append(l.antonyms()[0].name())\n",
        "\n",
        "syns_good = round(np.mean(cosine_gensim(lemmas, synonyms))*100)\n",
        "ants_good = round(np.mean(cosine_gensim(lemmas, antonyms))*100)\n",
        "\n",
        "print(\"Calcuation for 'good' in hypothesis 1 explanation:\")\n",
        "print(f'The word good is {syns_good}% similar to its synonyms')\n",
        "print(f'The word good is {ants_good}% similar to its antonyms')\n",
        "\n",
        "\n",
        "#Calcuation for 'food/fruit/apple' in hypothesis 2 explanation\n",
        "food_fruit = round(np.mean(word2vec_gensim.similarity('food', 'fruit'))*100)\n",
        "food_apple = round(np.mean(word2vec_gensim.similarity('food', 'apple'))*100)\n",
        "print(f'The word food is {food_fruit}% similar to its synonyms')\n",
        "print(f'The word good is {ants_good}% similar to its antonyms')\n",
        "\n"
      ],
      "execution_count": 86,
      "outputs": [
        {
          "output_type": "stream",
          "name": "stdout",
          "text": [
            "Data Analysis for Exercise 3:\n",
            "\n",
            "\n",
            "Synonyms show a 55% similarity to their lemmas\n",
            "Antonyms show a 38% similarity to their lemmas\n",
            "Hypernyms show a 26% similarity to their lemmas\n",
            "Hyponyms show a 19% similarity to their lemmas\n",
            "There is a 17% difference between the similarities of synonyms and antonyms\n",
            "There is a 7% difference between the similarities of hypernyms and hyponyms\n",
            "\n",
            "\n",
            "Data Analysis for Hypotheses Explanations in Exercise 3:\n",
            "\n",
            "\n",
            "Calcuation for 'good' in hypothesis 1 explanation:\n",
            "The word good is 93% similar to its synonyms\n",
            "The word good is 36% similar to its antonyms\n",
            "The word food is 37% similar to its synonyms\n",
            "The word good is 36% similar to its antonyms\n"
          ]
        }
      ]
    },
    {
      "cell_type": "markdown",
      "metadata": {
        "id": "I6AKX3LXJ44L"
      },
      "source": [
        "# Exercise 5"
      ]
    },
    {
      "cell_type": "code",
      "metadata": {
        "id": "MXNC6kj9oS4s",
        "colab": {
          "base_uri": "https://localhost:8080/"
        },
        "outputId": "eeca7152-e451-49af-a79b-97744e67c05d"
      },
      "source": [
        "#Import city state list \n",
        "master = \"https://raw.githubusercontent.com/MattyXarope/Homework-Comp-Semantics/main/citystate.txt\"\n",
        "req = requests.get(master)\n",
        "req = req.text\n",
        "\n",
        "#Split list into items\n",
        "citystate = req.split()\n",
        "\n",
        "#Separate items into lists and create a dictionary \n",
        "city1 = citystate[0::4]\n",
        "state1 = citystate[1::4]\n",
        "city2 = citystate[2::4]\n",
        "state2 = citystate[3::4]\n",
        "dict = {'City 1': city1, 'State 1': state1, 'City 2': city2, 'State 2': state2}  \n",
        "\n",
        "#Save to a csv file      \n",
        "df = pd.DataFrame(dict) \n",
        "df.to_csv('citystate.csv') \n",
        "\n",
        "def analogy(list1, list2, list3):\n",
        "  all_values = set(word2vec_gensim.vocab)\n",
        "  return(\n",
        "      [\n",
        "          word2vec_gensim.most_similar(positive=[three, two], negative=[one], topn=1)\n",
        "          if {one, two, three} <= all_values else 'None'\n",
        "          for one, two, three in zip(list1, list2, list3)\n",
        "      ]\n",
        "  )\n",
        "\n",
        "x = analogy(city1,state1,city2)\n",
        "print(x)\n"
      ],
      "execution_count": 183,
      "outputs": [
        {
          "output_type": "stream",
          "name": "stdout",
          "text": [
            "[[('Texas', 0.6967871189117432)], [('Pennsylvania', 0.7848096489906311)], [('Arizona', 0.6820878982543945)], [('Texas', 0.6893488168716431)], [('Tennessee', 0.6449511051177979)], [('Indiana', 0.7485679388046265)], [('Texas', 0.6330227851867676)], [('Michigan', 0.7813218832015991)], [('Tennessee', 0.7373061776161194)], [('Massachusetts', 0.7822067737579346)], [('Oregon', 0.7605135440826416)], [('Colorado', 0.7402900457382202)], [('Maryland', 0.7844523191452026)], [('Tennessee', 0.7298486232757568)], [('Kentucky', 0.8187580704689026)], [('Wisconsin', 0.7759114503860474)], [('Oregon', 0.7581984996795654)], [('Arizona', 0.7073144912719727)], [('Nevada', 0.5964944362640381)], [('California', 0.6476739645004272)], [('Nevada', 0.5685901641845703)], [('Georgia', 0.7300536632537842)], [('Nebraska', 0.6894394159317017)], [('Ohio', 0.6433959007263184)], [('Oklahoma', 0.7220430374145508)], [('Michigan', 0.5653089284896851)], [('Ohio', 0.7837209701538086)], [('Minnesota', 0.6924184560775757)], [('Kansas', 0.7676050066947937)], [('Virginia', 0.5456100702285767)], [('Fresno', 0.6208345890045166)], 'None', 'None', [('Hawaii', 0.703120231628418)], [('Pennsylvania', 0.6914374828338623)], [('Kentucky', 0.7021411657333374)], 'None', [('Ohio', 0.7443701028823853)], 'None', [('Pennsylvania', 0.6619620323181152)], [('Arizona', 0.6488053202629089)], [('Alabama', 0.6448335647583008)], [('Indiana', 0.6493509411811829)], [('Michigan', 0.6930651664733887)], [('Arkansas', 0.6857801675796509)], [('Massachusetts', 0.7008851766586304)], [('Oregon', 0.6261425614356995)], [('Colorado', 0.7173219919204712)], [('Maryland', 0.6762831211090088)], [('Tennessee', 0.6373283863067627)], [('Kentucky', 0.7414062023162842)], [('Wisconsin', 0.7432585954666138)], [('Oregon', 0.7137131690979004)], [('Arizona', 0.6432583928108215)], [('California', 0.5997109413146973)], [('California', 0.7062967419624329)], [('Pecos', 0.5124001502990723)], [('Georgia', 0.6353444457054138)], [('Nebraska', 0.6872373223304749)], [('Florida', 0.6927590370178223)], [('Oklahoma', 0.7296807169914246)], [('California', 0.5308229327201843)], [('Ohio', 0.6679859161376953)], [('Minnesota', 0.6486539840698242)], [('Kansas', 0.7580378651618958)], [('California', 0.6116013526916504)], 'None', 'None', [('Hawaii', 0.7161387801170349)], [('Pennsylvania', 0.5869213342666626)], [('Kentucky', 0.5801579356193542)], 'None', [('Ohio', 0.6632744073867798)], 'None', 'None', [('Arizona', 0.5896831750869751)], [('Texas', 0.665468156337738)], [('Alabama', 0.5695294141769409)], [('Indiana', 0.7065771818161011)], [('Texas', 0.5849076509475708)], [('Michigan', 0.7726971507072449)], [('Kentucky', 0.6620557904243469)], [('Massachusetts', 0.783344030380249)], [('Oregon', 0.6818331480026245)], [('Colorado', 0.6983593702316284)], [('Maryland', 0.7348034977912903)], [('Kentucky', 0.6104680895805359)], [('Kentucky', 0.7676563858985901)], [('Wisconsin', 0.7800092697143555)], [('Oregon', 0.708010196685791)], [('Arizona', 0.6135306358337402)], [('Nevada', 0.5722832083702087)], [('California', 0.668561577796936)], [('Wyoming', 0.5171825885772705)], [('Georgia', 0.6958868503570557)], [('Nebraska', 0.6585174798965454)], [('Ohio', 0.6128696203231812)], [('Oklahoma', 0.6921361088752747)], [('Michigan', 0.6002546548843384)], [('Ohio', 0.7632677555084229)], [('Wisconsin', 0.6289240121841431)], [('Kansas', 0.6795914173126221)], [('Virginia', 0.4939846992492676)], [('California', 0.5933976769447327)], 'None', 'None', [('Hawaii', 0.6663048267364502)], [('Kentucky', 0.6084764003753662)], 'None', [('Ohio', 0.7551667094230652)], 'None', 'None', 'None', [('Texas', 0.7305939793586731)], [('Alabama', 0.647190272808075)], [('Indiana', 0.6476517915725708)], [('Texas', 0.6828626394271851)], [('Michigan', 0.7018190622329712)], [('Tennessee', 0.7199985980987549)], [('Massachusetts', 0.6770250797271729)], [('Oregon', 0.699408769607544)], [('Colorado', 0.7614943981170654)], [('Maryland', 0.7068796753883362)], [('Tennessee', 0.7321672439575195)], [('Kentucky', 0.7151658535003662)], [('Wisconsin', 0.742546796798706)], [('Oregon', 0.8004635572433472)], [('Oregon', 0.6286032199859619)], [('Fresno', 0.6891237497329712)], [('Georgia', 0.6479200720787048)], [('Nebraska', 0.7082590460777283)], [('Florida', 0.675492525100708)], [('Oklahoma', 0.7508190870285034)], [('California', 0.5313102006912231)], [('Ohio', 0.6626685261726379)], [('Minnesota', 0.714225709438324)], [('Kansas', 0.7347748279571533)], [('Texas', 0.549258828163147)], [('Fresno', 0.6844857931137085)], 'None', 'None', [('Hawaii', 0.7594679594039917)], [('Pennsylvania', 0.5913076400756836)], [('Kentucky', 0.6477839946746826)], 'None', [('Ohio', 0.6149395704269409)], 'None', 'None', 'None', [('Jenkins', 0.5314244031906128)], [('Alabama', 0.6973983645439148)], [('Indiana', 0.6237050294876099)], [('Michigan', 0.7084519863128662)], [('Tennessee', 0.6814406514167786)], [('Massachusetts', 0.683786928653717)], [('Oregon', 0.6272624731063843)], [('Colorado', 0.7362684011459351)], [('Maryland', 0.6833738088607788)], [('Tennessee', 0.6867353916168213)], [('Kentucky', 0.7220224142074585)], [('Wisconsin', 0.6987966299057007)], [('Oregon', 0.6962534785270691)], [('Arizona', 0.6590535640716553)], [('California', 0.599883496761322)], [('California', 0.7056785225868225)], [('Arizona', 0.5261076092720032)], [('Georgia', 0.6712255477905273)], [('Nebraska', 0.6571964025497437)], [('Florida', 0.7166252136230469)], [('Oklahoma', 0.7319340705871582)], [('California', 0.5423474907875061)], [('Ohio', 0.6946743130683899)], [('Minnesota', 0.6299915909767151)], [('Kansas', 0.7388318181037903)], [('California', 0.6043077707290649)], 'None', 'None', [('Hawaii', 0.7164597511291504)], [('Pennsylvania', 0.5740444660186768)], [('Kentucky', 0.6279256343841553)], 'None', [('Ohio', 0.6556315422058105)], 'None', 'None', [('Patterson', 0.5102056264877319)], [('Florida', 0.7221677303314209)], [('Indiana', 0.6329275369644165)], [('Texas', 0.6263596415519714)], [('Michigan', 0.6711976528167725)], [('Oklahoma', 0.5279526114463806)], [('Massachusetts', 0.6027823686599731)], [('Oregon', 0.5327427387237549)], [('Colorado', 0.7177436351776123)], [('Maryland', 0.641618549823761)], [('Tennessee', 0.49388211965560913)], [('Kentucky', 0.6417261362075806)], [('Wisconsin', 0.6417843103408813)], [('Oregon', 0.6012440919876099)], [('Arizona', 0.6298075914382935)], [('California', 0.6270614862442017)], [('California', 0.694890022277832)], [('Colorado', 0.48954471945762634)], [('Georgia', 0.5407295823097229)], [('Nebraska', 0.58311927318573)], [('Oklahoma', 0.6881324648857117)], [('California', 0.5773783326148987)], [('Ohio', 0.6253835558891296)], [('Minnesota', 0.6328291296958923)], [('Kansas', 0.6604388952255249)], [('Texas', 0.5166792869567871)], [('California', 0.6354975700378418)], 'None', [('Hawaii', 0.6904176473617554)], [('Pennsylvania', 0.5879392623901367)], [('Kentucky', 0.5616754293441772)], 'None', [('Ohio', 0.6012173295021057)], 'None', 'None', 'None', [('Robinson', 0.5356950163841248)], [('Texas', 0.531287670135498)], [('Texas', 0.6243917942047119)], [('Michigan', 0.7403939962387085)], [('Arkansas', 0.649284839630127)], [('Massachusetts', 0.6653306484222412)], [('Oregon', 0.6874103546142578)], [('Colorado', 0.735957145690918)], [('Maryland', 0.7431373596191406)], [('Tennessee', 0.6618953943252563)], [('Kentucky', 0.7782583236694336)], [('Wisconsin', 0.7429589033126831)], [('Oregon', 0.7165637612342834)], [('Arizona', 0.6854124069213867)], [('Oregon', 0.621835470199585)], [('California', 0.6443561315536499)], [('Arizona', 0.5136979818344116)], [('Georgia', 0.6882318258285522)], [('Nebraska', 0.6789541840553284)], [('Florida', 0.6555955410003662)], [('Oklahoma', 0.7432106733322144)], [('Michigan', 0.594916045665741)], [('Ohio', 0.6978456974029541)], [('Minnesota', 0.7529093623161316)], [('Kansas', 0.7283715605735779)], [('Virginia', 0.5349199175834656)], [('California', 0.6125290393829346)], 'None', 'None', [('Hawaii', 0.7320787906646729)], [('Pennsylvania', 0.7129350900650024)], [('Kentucky', 0.655948281288147)], 'None', [('Ohio', 0.7353577613830566)], 'None', 'None', 'None', [('Hodges', 0.5350348949432373)], [('Florida', 0.6085674166679382)], [('Texas', 0.5074388980865479)], [('Parker', 0.48306867480278015)], [('Michigan', 0.6151989698410034)], [('Tennessee', 0.6831678152084351)], [('Massachusetts', 0.6161643862724304)], [('Oregon', 0.5559415817260742)], [('Colorado', 0.707672119140625)], [('Maryland', 0.662347674369812)], [('Tennessee', 0.6912265419960022)], [('Kentucky', 0.7494039535522461)], [('Wisconsin', 0.6139872074127197)], [('Oregon', 0.6736262440681458)], [('Arizona', 0.7223461866378784)], [('Bakersfield', 0.5999669432640076)], [('California', 0.6693564653396606)], [('Arizona', 0.5788969993591309)], [('Georgia', 0.5969057679176331)], [('Nebraska', 0.6617627143859863)], [('Florida', 0.6994032859802246)], [('Oklahoma', 0.7590404152870178)], [('California', 0.5153746008872986)], [('Ohio', 0.6133950352668762)], [('Minnesota', 0.7026308178901672)], [('Kansas', 0.7593399286270142)], [('Fresno', 0.6247339248657227)], 'None', 'None', [('Hawaii', 0.7168762683868408)], [('Pennsylvania', 0.5660557746887207)], [('Kentucky', 0.6797969341278076)], 'None', [('Ohio', 0.6110571622848511)], 'None', 'None', [('Robinson', 0.49728095531463623)], [('Florida', 0.6961781978607178)], [('Arizona', 0.5203390121459961)], [('Wisconsin', 0.6079756021499634)], [('Tennessee', 0.6924623250961304)], [('Massachusetts', 0.7525047063827515)], [('Oregon', 0.7501268982887268)], [('Colorado', 0.720048189163208)], [('Maryland', 0.764817476272583)], [('Tennessee', 0.6891031265258789)], [('Kentucky', 0.7533531785011292)], [('Wisconsin', 0.8237689137458801)], [('Oregon', 0.739495038986206)], [('Arizona', 0.7139748334884644)], [('Oregon', 0.6216402053833008)], [('California', 0.6924765110015869)], [('Arizona', 0.5464789867401123)], [('Georgia', 0.7174702882766724)], [('Nebraska', 0.6635318994522095)], [('Florida', 0.694664716720581)], [('Oklahoma', 0.6957683563232422)], [('California', 0.566741406917572)], [('Ohio', 0.7973953485488892)], [('Wisconsin', 0.6980909705162048)], [('Kansas', 0.7299855947494507)], [('Virginia', 0.5526021718978882)], [('Fresno', 0.6372649669647217)], 'None', 'None', [('Hawaii', 0.7563891410827637)], [('Pennsylvania', 0.6715505123138428)], [('Kentucky', 0.6521109342575073)], 'None', [('Ohio', 0.7399086952209473)], 'None', 'None', 'None', [('Morgan', 0.5293660759925842)], [('Florida', 0.6875333189964294)], [('Texas', 0.5418117046356201)], [('Reynolds', 0.4492543637752533)], [('Wisconsin', 0.6983721852302551)], [('Texas', 0.6398159861564636)], [('Massachusetts', 0.6962736248970032)], [('Oregon', 0.5934537053108215)], [('Colorado', 0.7088521718978882)], [('Maryland', 0.6935917139053345)], [('Kentucky', 0.7639203071594238)], [('Wisconsin', 0.7337812185287476)], [('Oregon', 0.7241318225860596)], [('Arizona', 0.7117546796798706)], [('California', 0.5916824340820312)], [('California', 0.7032836079597473)], [('Arizona', 0.5636450052261353)], [('Georgia', 0.665869414806366)], [('Nebraska', 0.6502000093460083)], [('Florida', 0.6801202297210693)], [('Oklahoma', 0.6736694574356079)], [('California', 0.501065194606781)], [('Ohio', 0.6746028661727905)], [('Minnesota', 0.6670998334884644)], [('Kansas', 0.6990788578987122)], [('Virginia', 0.5552711486816406)], [('California', 0.6312093734741211)], 'None', 'None', [('Hawaii', 0.6957058906555176)], [('Pennsylvania', 0.5801324844360352)], [('Kentucky', 0.6193548440933228)], 'None', [('Ohio', 0.6531009674072266)], 'None', 'None', 'None', [('Smith', 0.5611167550086975)], [('Florida', 0.6811845302581787)], [('Texas', 0.5274214148521423)], [('Wilson', 0.5227770209312439)], [('Wisconsin', 0.6133309602737427)], [('Texas', 0.6490572690963745)], [('Cobb', 0.48990437388420105)], [('Oregon', 0.6792820692062378)], [('Colorado', 0.6690921783447266)], [('Maryland', 0.7200373411178589)], [('Tennessee', 0.6310157775878906)], [('Kentucky', 0.7631884813308716)], [('Wisconsin', 0.7651141881942749)], [('Oregon', 0.6999820470809937)], [('Arizona', 0.6291804313659668)], [('California', 0.6254978179931641)], [('California', 0.7116740345954895)], [('Nevada', 0.56552654504776)], [('Georgia', 0.659892737865448)], [('Nebraska', 0.6189818382263184)], [('Florida', 0.6386880874633789)], [('Oklahoma', 0.6450671553611755)], [('California', 0.5878802537918091)], [('Ohio', 0.7056915760040283)], [('Minnesota', 0.6274699568748474)], [('Kansas', 0.6728499531745911)], [('Virginia', 0.5100886821746826)], [('California', 0.6357532143592834)], 'None', 'None', [('Hawaii', 0.7010799050331116)], [('Pennsylvania', 0.7247875928878784)], [('Kentucky', 0.5995794534683228)], 'None', [('Ohio', 0.685289204120636)], 'None', 'None', 'None', [('Smith', 0.48141664266586304)], [('Florida', 0.5779577493667603)], [('Raymondville', 0.4710136353969574)], [('Gilbert', 0.42768895626068115)], [('Wisconsin', 0.6119630336761475)], [('Abilene', 0.591782808303833)], [('McKinney', 0.48125267028808594)], [('Nevada', 0.4885183572769165)], [('Colorado', 0.5276488661766052)], [('Maryland', 0.6353644728660583)], [('Tennessee', 0.4784976840019226)], [('Kentucky', 0.6246098279953003)], [('Madison', 0.5573942065238953)], [('Maine', 0.49343031644821167)], [('Arizona', 0.5419162511825562)], [('Sacramento', 0.4797382056713104)], [('Fresno', 0.5232846736907959)], [('Arizona', 0.3813902735710144)], [('Georgia', 0.5531414747238159)], [('Lincoln', 0.4364696741104126)], [('Florida', 0.4986942410469055)], [('Oklahoma', 0.5889608860015869)], [('Hillsdale', 0.4383167028427124)], [('Ohio', 0.555813193321228)], [('Minnesota', 0.4798884391784668)], [('Kansas', 0.5605056285858154)], [('Virginia', 0.4127826392650604)], [('Fresno', 0.5387004613876343)], 'None', 'None', [('Hawaii', 0.5229363441467285)], [('Pennsylvania', 0.5816748142242432)], [('Frankfort', 0.48743391036987305)], 'None', [('Ohio', 0.5552050471305847)], 'None', 'None', 'None', [('Morgan', 0.5352206230163574)], [('Florida', 0.483730286359787)], [('Grayson', 0.42625826597213745)], [('Wilson', 0.529831051826477)], [('Jefferson', 0.5089536905288696)], [('Waco', 0.5509976744651794)], [('Wilson', 0.4877757430076599)], [('Burbank', 0.4201303720474243)], 'None', [('Maryland', 0.7301259636878967)], [('Tennessee', 0.6303458213806152)], [('Kentucky', 0.7294354438781738)], [('Wisconsin', 0.7106258869171143)], [('Oregon', 0.7344680428504944)], [('Arizona', 0.7330284714698792)], [('Bakersfield', 0.638597309589386)], [('California', 0.7243598103523254)], [('Arizona', 0.578919529914856)], [('Georgia', 0.6805837750434875)], [('Nebraska', 0.6504825353622437)], [('Florida', 0.7112573385238647)], [('Oklahoma', 0.7425380945205688)], [('California', 0.587044358253479)], [('Ohio', 0.6817757487297058)], [('Minnesota', 0.7350598573684692)], [('Kansas', 0.719061553478241)], [('Texas', 0.561343789100647)], [('Fresno', 0.6501697301864624)], 'None', 'None', [('Hawaii', 0.7733006477355957)], [('Pennsylvania', 0.603539228439331)], [('Kentucky', 0.6132894158363342)], 'None', [('Ohio', 0.6315295696258545)], 'None', 'None', 'None', [('Morgan', 0.5557146072387695)], [('Florida', 0.6777917146682739)], [('Texas', 0.5531517267227173)], [('Wilson', 0.5157196521759033)], [('Wisconsin', 0.6299185156822205)], [('Texas', 0.6854568719863892)], [('Texas', 0.503600001335144)], [('Arizona', 0.5576518774032593)], 'None', [('Nevada', 0.7275286912918091)], [('Tennessee', 0.6411980390548706)], [('Kentucky', 0.7733763456344604)], [('Wisconsin', 0.7758389115333557)], [('Oregon', 0.7332776188850403)], [('Arizona', 0.6605132818222046)], [('Oregon', 0.6131889820098877)], [('California', 0.6914041042327881)], [('Colorado', 0.5351909399032593)], [('Georgia', 0.7097448110580444)], [('Nebraska', 0.6496850252151489)], [('Florida', 0.6608339548110962)], [('Oklahoma', 0.7316451668739319)], [('California', 0.6162539720535278)], [('Ohio', 0.7038342952728271)], [('Minnesota', 0.6754120588302612)], [('Kansas', 0.7471864819526672)], [('Virginia', 0.6129909753799438)], [('California', 0.6373253464698792)], 'None', 'None', [('Hawaii', 0.7498466968536377)], [('Pennsylvania', 0.6838817596435547)], [('Kentucky', 0.6455963850021362)], 'None', [('Kentucky', 0.6711128950119019)], 'None', 'None', 'None', [('Davidson', 0.5561481714248657)], [('Florida', 0.624930739402771)], [('Texas', 0.508639931678772)], [('Parker', 0.4628932774066925)], [('Wisconsin', 0.6423659324645996)], [('Texas', 0.6192888021469116)], [('McKinney', 0.5324720740318298)], [('California', 0.4759538769721985)], 'None', [('Nevada', 0.7184057831764221)], 'None', [('Kentucky', 0.7316871881484985)], [('Wisconsin', 0.7036667466163635)], [('Oregon', 0.7510368227958679)], [('Arizona', 0.7516396045684814)], [('Oregon', 0.6045365333557129)], [('California', 0.6548840999603271)], [('Arizona', 0.5751228332519531)], [('Georgia', 0.6869591474533081)], [('Nebraska', 0.7108954191207886)], [('Florida', 0.6447526216506958)], [('Oklahoma', 0.7455736398696899)], [('Michigan', 0.5149258971214294)], [('Ohio', 0.66795414686203)], [('Minnesota', 0.6659214496612549)], [('Kansas', 0.7787806391716003)], [('Texas', 0.5342592000961304)], [('Fresno', 0.6590266227722168)], 'None', 'None', [('Hawaii', 0.7156409025192261)], [('Pennsylvania', 0.5945287942886353)], [('Kentucky', 0.6605510115623474)], 'None', [('Ohio', 0.6639991998672485)], 'None', 'None', 'None', [('Smith', 0.5633424520492554)], [('Florida', 0.6553682088851929)], [('Texas', 0.5710147023200989)], [('Parker', 0.502250611782074)], [('Wisconsin', 0.6180347204208374)], [('Texas', 0.692042887210846)], [('Blanton', 0.511161208152771)], [('Arizona', 0.5858316421508789)], 'None', [('Nevada', 0.7242593169212341)], 'None', [('Texas', 0.47174614667892456)], [('Wisconsin', 0.714436411857605)], [('Oregon', 0.7193149328231812)], [('Arizona', 0.7148773074150085)], [('California', 0.6500815153121948)], [('California', 0.6985891461372375)], [('Nevada', 0.5665955543518066)], [('Georgia', 0.6934150457382202)], [('Nebraska', 0.6399761438369751)], [('Florida', 0.6942331790924072)], [('Oklahoma', 0.7417100667953491)], [('California', 0.5480345487594604)], [('Ohio', 0.6662449836730957)], [('Minnesota', 0.7392157912254333)], [('Kansas', 0.7627297639846802)], [('Virginia', 0.57268226146698)], [('California', 0.6473785638809204)], 'None', 'None', [('Hawaii', 0.7246804237365723)], [('Pennsylvania', 0.7124018669128418)], 'None', [('Ohio', 0.7227976322174072)], 'None', 'None', 'None', [('Boyd', 0.5428855419158936)], [('Florida', 0.6398165225982666)], [('Texas', 0.5428892970085144)], [('Wilson', 0.5190944671630859)], [('Wisconsin', 0.6090726852416992)], [('Texas', 0.6737706661224365)], [('Blanton', 0.5261633992195129)], [('Arizona', 0.5078368782997131)], 'None', [('Nevada', 0.7488056421279907)], 'None', [('Texas', 0.473757803440094)], 'None', [('Oregon', 0.789157509803772)], [('Arizona', 0.6921447515487671)], [('Oregon', 0.6565608382225037)], [('California', 0.7355766296386719)], [('Idaho', 0.5696688890457153)], [('Georgia', 0.7158689498901367)], [('Nebraska', 0.738361120223999)], [('Florida', 0.6547847390174866)], [('Oklahoma', 0.7298961877822876)], [('Michigan', 0.6321682929992676)], [('Ohio', 0.781242847442627)], [('Minnesota', 0.7275394201278687)], [('Kansas', 0.763756275177002)], [('Virginia', 0.5590824484825134)], [('California', 0.650735080242157)], 'None', 'None', [('Hawaii', 0.7642812728881836)], [('Pennsylvania', 0.6634171009063721)], [('Kentucky', 0.6408528089523315)], 'None', [('Ohio', 0.7416120767593384)], 'None', 'None', 'None', [('McIntosh', 0.5240761041641235)], [('Florida', 0.6698576211929321)], [('Texas', 0.5377930998802185)], [('Fowler', 0.4688224196434021)], [('Texas', 0.6457645297050476)], [('McKinney', 0.5062050819396973)], [('Arizona', 0.501359224319458)], 'None', [('Nevada', 0.7448036670684814)], 'None', [('Texas', 0.4394594430923462)], 'None', 'None', [('Arizona', 0.7700426578521729)], [('California', 0.640678882598877)], [('California', 0.7516891360282898)], [('Arizona', 0.6195250153541565)], [('Georgia', 0.695798397064209)], [('Nebraska', 0.7196164727210999)], [('Florida', 0.6742193698883057)], [('Oklahoma', 0.7588205337524414)], [('California', 0.6021860837936401)], [('Ohio', 0.7240223288536072)], [('Minnesota', 0.6984483003616333)], [('Kansas', 0.7602759599685669)], [('Texas', 0.5379277467727661)], [('California', 0.6994315385818481)], 'None', 'None', [('Hawaii', 0.7649666666984558)], [('Pennsylvania', 0.6157411336898804)], [('Kentucky', 0.701857328414917)], 'None', [('Ohio', 0.6756004691123962)], 'None', 'None', 'None', [('Hawkins', 0.519660472869873)], [('Florida', 0.6839209794998169)], [('Texas', 0.5793925523757935)], [('Arizona', 0.5372374653816223)], [('Wisconsin', 0.6581047177314758)], [('Texas', 0.6859818696975708)], [('Blanton', 0.5391397476196289)], [('Arizona', 0.5871031880378723)], 'None', [('Nevada', 0.7628921866416931)], 'None', [('Texas', 0.5406534671783447)], 'None', 'None', [('Idaho', 0.7052574157714844)], [('Oregon', 0.6165046691894531)], [('California', 0.6541376709938049)], [('Georgia', 0.6263140439987183)], [('Nebraska', 0.692608118057251)], [('Florida', 0.6640365123748779)], [('Oklahoma', 0.7771435379981995)], [('Michigan', 0.5353103876113892)], [('Ohio', 0.6499205231666565)], [('Minnesota', 0.8055528402328491)], [('Kansas', 0.7845214605331421)], [('Texas', 0.5306802988052368)], [('Fresno', 0.6672487258911133)], 'None', 'None', [('Hawaii', 0.7487803101539612)], [('Cincinnati', 0.585442304611206)], [('Kentucky', 0.7035009860992432)], 'None', [('Ohio', 0.6479407548904419)], 'None', 'None', 'None', [('Smith', 0.6137295961380005)], [('Florida', 0.6655558347702026)], [('Texas', 0.531212568283081)], [('Wisconsin', 0.6587194204330444)], [('Texas', 0.7099193334579468)], [('Weaver', 0.540332555770874)], 'None', [('Nevada', 0.7717972993850708)], [('Texas', 0.455461710691452)], 'None', 'None', [('Oregon', 0.6959949731826782)], 'None', [('Arizona', 0.492325097322464)], [('Philadelphia', 0.4581185579299927)], [('Nebraska', 0.47174888849258423)], [('Florida', 0.5947504043579102)], [('Oklahoma', 0.5737466812133789)], [('Ohio', 0.499502569437027)], [('Minnesota', 0.5730838775634766)], [('Kansas', 0.6175248026847839)], [('Virginia', 0.47938108444213867)], 'None', [('Hawaii', 0.6473908424377441)], [('Pennsylvania', 0.5900939702987671)], [('Kentucky', 0.5292387008666992)], [('Ohio', 0.5139080286026001)], 'None', 'None', 'None', [('Smith', 0.48162174224853516)], [('Florida', 0.5426926016807556)], [('Texas', 0.5398032665252686)], [('Parker', 0.43172720074653625)], [('Wisconsin', 0.5479801893234253)], [('Texas', 0.6890401840209961)], [('Texas', 0.4595542848110199)], [('Burbank', 0.518819272518158)], 'None', [('Nevada', 0.6378240585327148)], 'None', [('Texas', 0.41384467482566833)], [('Oregon', 0.5347462892532349)], [('Louisiana', 0.6494572758674622)], [('Arizona', 0.5309460163116455)], [('Georgia', 0.5948967933654785)], [('Nebraska', 0.5967202186584473)], [('Florida', 0.6865593194961548)], [('Oklahoma', 0.6428472399711609)], [('Ohio', 0.6185541749000549)], [('Minnesota', 0.5944005250930786)], [('Kansas', 0.6914392709732056)], [('Texas', 0.5236807465553284)], 'None', [('Hawaii', 0.747791051864624)], [('Pennsylvania', 0.6119424104690552)], [('Kentucky', 0.5550621747970581)], [('Ohio', 0.590084433555603)], 'None', 'None', 'None', [('Boyd', 0.49964213371276855)], [('Florida', 0.6682628989219666)], [('Texas', 0.5958791971206665)], [('Wilson', 0.48324429988861084)], [('Wisconsin', 0.5999338626861572)], [('Texas', 0.7089262008666992)], [('Texas', 0.5039470195770264)], [('Burbank', 0.534730076789856)], 'None', [('Nevada', 0.7292028665542603)], 'None', [('Texas', 0.46792513132095337)], [('Idaho', 0.6233399510383606)], [('Louisiana', 0.6792231798171997)], 'None', [('Georgia', 0.5740603804588318)], [('Nebraska', 0.6009154319763184)], [('Florida', 0.6155624389648438)], [('Oklahoma', 0.7015324831008911)], [('Minnesota', 0.5512991547584534)], [('Ohio', 0.5878388285636902)], [('Minnesota', 0.7352355718612671)], [('Kansas', 0.7228747606277466)], [('Virginia', 0.5141178369522095)], [('California', 0.6279705166816711)], 'None', 'None', [('Hawaii', 0.6881595253944397)], [('Philadelphia', 0.5820531249046326)], [('Kentucky', 0.6562352180480957)], 'None', [('Ohio', 0.5786941051483154)], 'None', 'None', 'None', [('Robinson', 0.5333428382873535)], [('Florida', 0.5901563167572021)], [('Texas', 0.5204836130142212)], [('Wisconsin', 0.6540043354034424)], [('Texas', 0.6632812023162842)], [('Tennessee', 0.49498462677001953)], 'None', [('Nevada', 0.6927987337112427)], [('Texas', 0.460591197013855)], 'None', 'None', [('Oregon', 0.6510486602783203)], 'None', [('Louisiana', 0.66933274269104)], 'None', [('California', 0.6237161755561829)], [('Nebraska', 0.6335038542747498)], [('Florida', 0.6491329669952393)], [('Oklahoma', 0.6597840785980225)], [('Berkeley', 0.5081498026847839)], [('Ohio', 0.6680480241775513)], [('Minnesota', 0.6092904806137085)], [('Kansas', 0.673293948173523)], [('Virginia', 0.46764135360717773)], [('Fresno', 0.6024768352508545)], 'None', 'None', [('Hawaii', 0.7227104306221008)], [('Pennsylvania', 0.6041216254234314)], [('Kentucky', 0.6015342473983765)], 'None', [('Ohio', 0.6435475945472717)], 'None', 'None', 'None', [('Morgan', 0.5073375105857849)], [('Florida', 0.6511940360069275)], [('Texas', 0.47451430559158325)], [('Wilson', 0.4560694694519043)], [('Wisconsin', 0.5534330606460571)], [('Texas', 0.5886136889457703)], [('McKinney', 0.48660629987716675)], [('Arizona', 0.4390312135219574)], 'None', [('Nevada', 0.6841751337051392)], 'None', [('Texas', 0.40462926030158997)], 'None', 'None', [('Idaho', 0.6645539999008179)], 'None', [('Louisiana', 0.6764995455741882)], 'None', [('Ventura', 0.5604732036590576)], [('Sonora', 0.4196285307407379)], [('Florida', 0.5850846767425537)], [('Oklahoma', 0.7804197072982788)], [('Michigan', 0.5551650524139404)], [('Ohio', 0.6495651006698608)], [('Minnesota', 0.7680397033691406)], [('Kansas', 0.825291633605957)], [('Texas', 0.5540993213653564)], [('Fresno', 0.591029167175293)], 'None', 'None', [('Hawaii', 0.7218196392059326)], [('Pennsylvania', 0.61798095703125)], [('Kentucky', 0.6477372050285339)], 'None', [('Ohio', 0.6650152206420898)], 'None', 'None', 'None', [('Robinson', 0.5386583209037781)], [('Florida', 0.6050329208374023)], [('Texas', 0.5773488879203796)], [('Parker', 0.4998249411582947)], [('Wisconsin', 0.6513503789901733)], [('Texas', 0.6929978728294373)], [('Texas', 0.5238718390464783)], [('Arizona', 0.5290406346321106)], 'None', [('Nevada', 0.7062232494354248)], 'None', [('Texas', 0.5006884336471558)], 'None', 'None', [('Idaho', 0.6897128820419312)], 'None', [('Louisiana', 0.682603657245636)], 'None', [('Ventura', 0.5600264072418213)], [('Glendora', 0.45207342505455017)], [('Ohio', 0.7139294147491455)], [('Oklahoma', 0.6649014353752136)], [('California', 0.5651448369026184)], [('Ohio', 0.6084233522415161)], [('Minnesota', 0.6660678386688232)], [('Kansas', 0.6539399027824402)], [('Texas', 0.5475232601165771)], [('California', 0.6023570895195007)], 'None', [('Hawaii', 0.7218688726425171)], [('Pennsylvania', 0.5895974636077881)], [('Kentucky', 0.6371887922286987)], 'None', [('Kentucky', 0.604893684387207)], 'None', 'None', 'None', [('Boyd', 0.5503858327865601)], [('Texas', 0.586205780506134)], [('Fowler', 0.5304806232452393)], [('Wisconsin', 0.6229851245880127)], [('Texas', 0.6785884499549866)], [('Texas', 0.5287947654724121)], [('Arizona', 0.5270373821258545)], [('Nevada', 0.7201552391052246)], 'None', [('Texas', 0.5118226408958435)], 'None', 'None', [('Idaho', 0.6995748281478882)], 'None', [('Louisiana', 0.692031979560852)], 'None', [('Bakersfield', 0.5949311256408691)], [('California', 0.4772798418998718)], [('Ohio', 0.6513426899909973)], 'None', [('Michigan', 0.5174205899238586)], [('Ohio', 0.6479608416557312)], [('Minnesota', 0.7311898469924927)], [('Kansas', 0.7917569875717163)], [('Texas', 0.5350930094718933)], [('Fresno', 0.6723939180374146)], 'None', 'None', [('Hawaii', 0.7023876309394836)], [('Pennsylvania', 0.6218686103820801)], [('Kentucky', 0.6374720335006714)], 'None', [('Ohio', 0.6880587935447693)], 'None', 'None', 'None', [('Robinson', 0.6398277878761292)], [('Florida', 0.6263388395309448)], [('Texas', 0.5818333029747009)], [('Parker', 0.5469144582748413)], [('Wisconsin', 0.6385942101478577)], [('Texas', 0.7352809309959412)], [('McKinney', 0.5160951614379883)], [('Arizona', 0.5425218939781189)], 'None', [('Nevada', 0.6980699300765991)], 'None', [('Texas', 0.4844988286495209)], 'None', 'None', [('Oregon', 0.6696524024009705)], 'None', [('Louisiana', 0.7795611619949341)], 'None', [('Ventura', 0.6171457171440125)], [('Glendora', 0.4833064377307892)], [('Ohio', 0.7598021626472473)], 'None', [('Arizona', 0.5425218939781189)], [('Ohio', 0.609140157699585)], [('Minnesota', 0.5107955932617188)], [('Kansas', 0.5991055965423584)], [('Virginia', 0.5295542478561401)], 'None', [('Hawaii', 0.7143867611885071)], [('Pennsylvania', 0.6382158398628235)], [('Kentucky', 0.5609735250473022)], [('Ohio', 0.557847261428833)], 'None', 'None', 'None', [('Nevada', 0.5132186412811279)], [('Florida', 0.5827373266220093)], [('Mexico', 0.5515904426574707)], [('Arizona', 0.4341418743133545)], [('Wisconsin', 0.5836204290390015)], [('Texas', 0.5944331884384155)], [('Texas', 0.490792840719223)], [('Nevada', 0.5043773651123047)], 'None', [('Nevada', 0.6964616775512695)], 'None', [('Texas', 0.4263768792152405)], [('Idaho', 0.6831190586090088)], [('Louisiana', 0.6725598573684692)], 'None', [('Ohio', 0.6235972046852112)], 'None', [('Florida', 0.6159877777099609)], [('Minnesota', 0.6179962754249573)], [('Kansas', 0.701704204082489)], [('Virginia', 0.5287071466445923)], [('Fresno', 0.5959193706512451)], 'None', 'None', [('Hawaii', 0.6597938537597656)], [('Pennsylvania', 0.684977114200592)], [('Kentucky', 0.6575761437416077)], 'None', 'None', 'None', [('Boyd', 0.49202242493629456)], [('Florida', 0.6642372608184814)], [('Texas', 0.5137143135070801)], [('Huffman', 0.4389519691467285)], [('Wisconsin', 0.6721875071525574)], [('Texas', 0.6243284344673157)], [('Texas', 0.5145404934883118)], [('Arizona', 0.46625685691833496)], 'None', [('Nevada', 0.6710872650146484)], 'None', [('Texas', 0.45204809308052063)], 'None', 'None', [('Idaho', 0.6841207146644592)], 'None', [('Louisiana', 0.6704956889152527)], 'None', [('California', 0.5742197632789612)], [('California', 0.4554421901702881)], 'None', [('Arizona', 0.46625685691833496)], [('Florida', 0.6306742429733276)], 'None', [('Kansas', 0.7673449516296387)], [('Texas', 0.5617692470550537)], [('Fresno', 0.6486610174179077)], 'None', 'None', [('Hawaii', 0.7839295864105225)], [('Pennsylvania', 0.6012895703315735)], [('Kentucky', 0.6951885223388672)], 'None', [('Ohio', 0.670409083366394)], 'None', 'None', 'None', [('Weaver', 0.5601208806037903)], [('Florida', 0.6617764234542847)], [('Texas', 0.5382107496261597)], [('Wilson', 0.5276148319244385)], [('Wisconsin', 0.6991854906082153)], [('Texas', 0.6931502819061279)], [('Weaver', 0.5566569566726685)], [('Arizona', 0.6103063225746155)], 'None', [('Nevada', 0.7637393474578857)], 'None', [('Texas', 0.519970178604126)], 'None', 'None', [('Idaho', 0.708264172077179)], 'None', [('Louisiana', 0.6992385983467102)], 'None', [('Ventura', 0.6277992725372314)], [('California', 0.44246989488601685)], [('Ohio', 0.7108393907546997)], 'None', [('Arizona', 0.6103063225746155)], [('Florida', 0.7084797024726868)], 'None', [('Northampton', 0.6152442097663879)], [('Virginia', 0.5331846475601196)], [('California', 0.6688364148139954)], 'None', 'None', [('Hawaii', 0.7498553991317749)], [('Pennsylvania', 0.5819670557975769)], [('Kentucky', 0.681079626083374)], 'None', [('Ohio', 0.6296398639678955)], 'None', 'None', 'None', [('Robinson', 0.5917040705680847)], [('Florida', 0.6048147678375244)], [('Texas', 0.5917631983757019)], [('Parker', 0.5024929046630859)], [('Wisconsin', 0.6575380563735962)], [('Texas', 0.7217382192611694)], [('Blanton', 0.5076016187667847)], [('Arizona', 0.5286130309104919)], 'None', [('Nevada', 0.7437063455581665)], 'None', [('Texas', 0.4582750201225281)], 'None', 'None', [('Idaho', 0.6908736228942871)], 'None', [('Louisiana', 0.7142243981361389)], 'None', [('California', 0.618679404258728)], [('California', 0.44283127784729004)], [('Ohio', 0.7287531495094299)], 'None', [('Arizona', 0.5286130309104919)], [('Florida', 0.6677217483520508)], 'None', [('Massachusetts', 0.6250985264778137)], [('Illinois', 0.6608870625495911)], [('Fresno', 0.5943447351455688)], 'None', 'None', [('Hawaii', 0.6726491451263428)], [('Cincinnati', 0.5501207113265991)], [('Kentucky', 0.6367325782775879)], 'None', [('Ohio', 0.5773066282272339)], 'None', 'None', [('Hodges', 0.49425947666168213)], [('Florida', 0.6462567448616028)], [('Odom', 0.4727831482887268)], [('Wisconsin', 0.6188801527023315)], [('Arizona', 0.581551194190979)], 'None', [('Nevada', 0.6395726203918457)], 'None', 'None', 'None', [('Idaho', 0.6499310731887817)], 'None', [('Louisiana', 0.6448624730110168)], 'None', [('Bakersfield', 0.5861273407936096)], [('California', 0.4641055464744568)], [('Ohio', 0.656926691532135)], [('Arizona', 0.581551194190979)], [('Florida', 0.6741940975189209)], 'None', [('Connecticut', 0.4660492539405823)], [('Illinois', 0.5769277811050415)], 'None', [('Hawaii', 0.6948201060295105)], [('Pennsylvania', 0.5984646677970886)], [('Kentucky', 0.5842593312263489)], [('Ohio', 0.5596326589584351)], 'None', 'None', 'None', [('Wilkinson', 0.482845664024353)], [('Florida', 0.5928318500518799)], [('Texas', 0.537388801574707)], [('Arizona', 0.429895281791687)], [('Wisconsin', 0.6162812113761902)], [('Texas', 0.6972767114639282)], [('Blanton', 0.4419167637825012)], [('Arizona', 0.520025908946991)], 'None', [('Nevada', 0.7275573015213013)], 'None', [('Texas', 0.4137469530105591)], [('Oregon', 0.6337236166000366)], [('Louisiana', 0.6716647744178772)], 'None', [('Ohio', 0.679887056350708)], 'None', [('Florida', 0.6588237285614014)], 'None', [('Massachusetts', 0.6819313764572144)], [('Illinois', 0.5822614431381226)], [('Texas', 0.5989334583282471)], [('Pennsylvania', 0.631198525428772)], 'None', 'None', 'None', 'None', 'None', 'None', 'None', 'None', 'None', 'None', 'None', 'None', 'None', 'None', 'None', 'None', 'None', 'None', 'None', 'None', 'None', 'None', 'None', 'None', 'None', 'None', 'None', 'None', 'None', 'None', 'None', 'None', 'None', 'None', 'None', 'None', 'None', 'None', 'None', 'None', 'None', 'None', 'None', 'None', 'None', 'None', 'None', 'None', 'None', 'None', 'None', 'None', 'None', 'None', 'None', 'None', 'None', 'None', 'None', 'None', 'None', 'None', 'None', 'None', 'None', 'None', 'None', 'None', [('Pennsylvania', 0.5671629309654236)], [('Kentucky', 0.6443477869033813)], 'None', [('Ohio', 0.6081427335739136)], 'None', 'None', 'None', [('Robinson', 0.5577946901321411)], [('Florida', 0.670287013053894)], [('Mexico', 0.572291910648346)], [('Wilson', 0.4949345588684082)], [('Wisconsin', 0.6770771741867065)], [('Texas', 0.6840540170669556)], [('Blanton', 0.5132900476455688)], [('Arizona', 0.5793008804321289)], 'None', [('Nevada', 0.7611010670661926)], 'None', [('Texas', 0.4824688136577606)], 'None', 'None', [('Idaho', 0.718513011932373)], 'None', [('Louisiana', 0.7355906963348389)], 'None', [('California', 0.6148817539215088)], [('California', 0.4750877618789673)], [('Ohio', 0.6839182376861572)], 'None', [('Arizona', 0.5793008804321289)], [('Florida', 0.7229447364807129)], 'None', [('Northampton', 0.6228318214416504)], [('Illinois', 0.6809087991714478)], [('Texas', 0.6944571733474731)], [('Philly', 0.6623259782791138)], [('Arizona', 0.7092759013175964)], [('Texas', 0.6778992414474487)], [('Florida', 0.6515293121337891)], [('Kentucky', 0.5424408912658691)], 'None', [('Ohio', 0.720138669013977)], 'None', 'None', 'None', [('Stillwell', 0.48291605710983276)], [('Florida', 0.536358118057251)], [('Harlingen', 0.4565185606479645)], [('Gardner', 0.4000396132469177)], [('Wisconsin', 0.5757452249526978)], [('Texas', 0.5600671172142029)], [('Cotten', 0.4728102385997772)], [('California', 0.48228299617767334)], 'None', [('Nevada', 0.668961763381958)], 'None', [('Hess', 0.3841018080711365)], 'None', 'None', [('Idaho', 0.6161061525344849)], 'None', [('Louisiana', 0.6896928548812866)], 'None', [('California', 0.5722212791442871)], [('California', 0.4885469079017639)], [('Ohio', 0.674512505531311)], 'None', [('California', 0.48228299617767334)], [('Florida', 0.5423652529716492)], 'None', [('Northampton', 0.626122236251831)], [('Illinois', 0.6865044236183167)], [('Texas', 0.6080276966094971)], [('Nevada', 0.5277721881866455)], [('Texas', 0.5838735699653625)], [('Virginia', 0.5845258235931396)], [('Indiana', 0.6989328265190125)], 'None', [('Ohio', 0.6077633500099182)], 'None', 'None', 'None', [('Robinson', 0.54311203956604)], [('Florida', 0.6329305171966553)], [('Arizona', 0.5571696758270264)], [('Arizona', 0.5467286705970764)], [('Wisconsin', 0.713731586933136)], [('Texas', 0.6848837733268738)], [('Texas', 0.5169978141784668)], [('Arizona', 0.6316865086555481)], 'None', [('Nevada', 0.733637273311615)], 'None', [('Texas', 0.5044676065444946)], 'None', 'None', [('Idaho', 0.7138826251029968)], 'None', [('Louisiana', 0.6880543231964111)], 'None', [('California', 0.6203137636184692)], [('California', 0.4729018807411194)], [('Ohio', 0.7024173140525818)], 'None', [('Arizona', 0.6316865086555481)], [('Florida', 0.6862001419067383)], 'None', [('Vermont', 0.5307832360267639)], [('Illinois', 0.6780992150306702)], [('Texas', 0.6036843061447144)], [('Pennsylvania', 0.6051057577133179)], [('Arizona', 0.680985689163208)], [('Houston', 0.6381502747535706)], [('Tennessee', 0.6676381826400757)], [('Indiana', 0.7018474340438843)], [('Texas', 0.6714346408843994)], 'None', 'None', 'None', 'None', 'None', 'None', 'None', 'None', 'None', 'None', 'None', 'None', 'None', 'None', 'None', 'None', 'None', 'None', 'None', 'None', 'None', 'None', 'None', 'None', 'None', 'None', 'None', 'None', 'None', 'None', 'None', 'None', 'None', 'None', 'None', [('Griffin', 0.5147472620010376)], [('Florida', 0.5901720523834229)], [('Texas', 0.4846839904785156)], [('Parker', 0.48325639963150024)], [('Wisconsin', 0.6189588308334351)], [('Texas', 0.6124932765960693)], [('McKinney', 0.5088496804237366)], [('Riverside', 0.44428813457489014)], 'None', [('Nevada', 0.6582003831863403)], 'None', [('Texas', 0.43254172801971436)], 'None', 'None', [('Idaho', 0.6454939246177673)], 'None', [('Louisiana', 0.6698872447013855)], 'None', [('Ventura', 0.5669426918029785)], [('California', 0.418204665184021)], 'None', [('Riverside', 0.44428813457489014)], [('Florida', 0.6130836009979248)], 'None', [('Massachusetts', 0.6116630434989929)], [('Illinois', 0.7089954614639282)], [('Texas', 0.6740721464157104)], [('Pennsylvania', 0.7589857578277588)], [('Arizona', 0.5373001098632812)], [('Texas', 0.6385732293128967)], [('Florida', 0.58671635389328)], [('Indiana', 0.7381582260131836)], [('Texas', 0.6003894805908203)], [('Michigan', 0.729545533657074)], [('Arkansas', 0.6368181705474854)], 'None', 'None', 'None', 'None', 'None', 'None', 'None', 'None', 'None', 'None', 'None', 'None', 'None', 'None', 'None', 'None', 'None', 'None', 'None', 'None', 'None', 'None', 'None', 'None', 'None', 'None', 'None', 'None', 'None', 'None', 'None', 'None', 'None', 'None', 'None', 'None', 'None', 'None', 'None', 'None', 'None', 'None', 'None', 'None', 'None', 'None', 'None', 'None', 'None', 'None', 'None', 'None', 'None', 'None', 'None', 'None', 'None', 'None', 'None', 'None', 'None', 'None', 'None', 'None', 'None', 'None', 'None', 'None', 'None', 'None', 'None', 'None', 'None', 'None', 'None', 'None', 'None', 'None', 'None', 'None', 'None', 'None', 'None', 'None', 'None', 'None', 'None', 'None', 'None', 'None', 'None', 'None', 'None', 'None', 'None', 'None', 'None', 'None', 'None', 'None', 'None', 'None', 'None', 'None', 'None', 'None', 'None', 'None', [('Florida', 0.583121657371521)], [('Arizona', 0.5833317041397095)], [('Arizona', 0.6662720441818237)], [('Wisconsin', 0.6471524834632874)], [('Idaho', 0.5606307983398438)], [('Arizona', 0.5863341093063354)], [('Arizona', 0.6084980368614197)], 'None', 'None', [('Connecticut', 0.4521980285644531)], 'None', 'None', [('Idaho', 0.688973069190979)], 'None', [('Louisiana', 0.589357852935791)], 'None', [('California', 0.6395618915557861)], [('California', 0.5812995433807373)], [('Ohio', 0.5974762439727783)], 'None', [('Arizona', 0.6084980368614197)], [('Florida', 0.6144015192985535)], 'None', [('Massachusetts', 0.6093056201934814)], [('Illinois', 0.5828511118888855)], [('Arizona', 0.6171647906303406)], [('Pennsylvania', 0.6058781147003174)], [('Arizona', 0.6773995161056519)], [('Colorado', 0.5777739882469177)], [('Arizona', 0.5916838049888611)], [('Arizona', 0.564976155757904)], [('Texas', 0.5518323183059692)], [('Michigan', 0.6058347225189209)], [('Arizona', 0.6057520508766174)], [('Massachusetts', 0.6394493579864502)], [('Oregon', 0.61285799741745)], [('Colorado', 0.7029076814651489)], [('Maryland', 0.6074261665344238)], [('Texas', 0.6427712440490723)], [('Arizona', 0.5250370502471924)], [('Wisconsin', 0.6307610869407654)], [('Texas', 0.7287452220916748)], [('Texas', 0.5863666534423828)], [('Arizona', 0.5764300227165222)], [('Nevada', 0.7352994084358215)], 'None', [('Texas', 0.5576967597007751)], 'None', 'None', [('Idaho', 0.6568449139595032)], 'None', [('Louisiana', 0.7490626573562622)], 'None', [('Ventura', 0.6005733013153076)], [('California', 0.5065162181854248)], [('Ohio', 0.726780891418457)], 'None', [('Arizona', 0.5764300227165222)], 'None', [('Massachusetts', 0.623493492603302)], [('Illinois', 0.6847609281539917)], [('Texas', 0.7525164484977722)], [('Pennsylvania', 0.6649504899978638)], [('Arizona', 0.726454496383667)], [('Texas', 0.7696065902709961)], [('Indiana', 0.6125514507293701)], [('Texas', 0.7361634373664856)], [('Michigan', 0.7233125567436218)], [('Tennessee', 0.7432756423950195)], [('Massachusetts', 0.6759016513824463)], [('Oregon', 0.6185002326965332)], [('Colorado', 0.7458065152168274)], [('Maryland', 0.7046098113059998)], [('Tennessee', 0.696667492389679)], [('McKinney', 0.502853274345398)], [('Wisconsin', 0.6063124537467957)], [('California', 0.5307806730270386)], 'None', [('Nevada', 0.6225811839103699)], 'None', 'None', 'None', [('Oregon', 0.6296658515930176)], 'None', [('Louisiana', 0.6478314399719238)], 'None', [('California', 0.606762707233429)], [('California', 0.48906856775283813)], [('Ohio', 0.659113883972168)], [('California', 0.5307806730270386)], [('Florida', 0.650922417640686)], 'None', [('Massachusetts', 0.6006696224212646)], [('Illinois', 0.5936435461044312)], [('Philly', 0.5834769606590271)], [('Arizona', 0.5587940216064453)], [('Alabama', 0.6271330118179321)], [('Indiana', 0.5934959650039673)], [('Michigan', 0.6376082897186279)], [('Tennessee', 0.6473196744918823)], [('Massachusetts', 0.581147313117981)], [('Oregon', 0.5442501306533813)], [('Colorado', 0.6060898900032043)], [('Maryland', 0.6547985076904297)], [('Tennessee', 0.6514507532119751)], [('Kentucky', 0.6912217140197754)], [('Wisconsin', 0.672844648361206)], [('Texas', 0.6437079906463623)], [('Texas', 0.5416536927223206)], 'None', [('Nevada', 0.7383257746696472)], [('Texas', 0.539798378944397)], 'None', 'None', [('Idaho', 0.6488426923751831)], 'None', [('Louisiana', 0.602597177028656)], 'None', [('California', 0.5929991006851196)], [('Nevada', 0.5248774886131287)], [('Ohio', 0.6382333040237427)], 'None', [('Tucson', 0.6072395443916321)], [('Florida', 0.6914585828781128)], 'None', [('Massachusetts', 0.5521249175071716)], [('Illinois', 0.5951892137527466)], [('Texas', 0.6017260551452637)], [('Philly', 0.6017205715179443)], [('Texas', 0.6055873036384583)], [('Florida', 0.6319378614425659)], [('Indiana', 0.5605677366256714)], [('Texas', 0.6489785313606262)], [('Michigan', 0.636160135269165)], [('Tennessee', 0.6106401681900024)], [('Massachusetts', 0.5606387853622437)], [('Oregon', 0.598383903503418)], [('Colorado', 0.7325631380081177)], [('Maryland', 0.617911696434021)], [('Tennessee', 0.5978493690490723)], [('Kentucky', 0.6205471754074097)], [('Wisconsin', 0.6349800229072571)], [('Texas', 0.6594696044921875)], [('Texas', 0.5390646457672119)], [('Arizona', 0.6059533357620239)], 'None', [('Nevada', 0.7097805738449097)], 'None', [('Texas', 0.49025458097457886)], 'None', 'None', [('Idaho', 0.6607666015625)], 'None', [('Louisiana', 0.667695939540863)], 'None', [('California', 0.5962831974029541)], [('California', 0.4761909246444702)], [('Ohio', 0.6877539753913879)], 'None', [('Arizona', 0.6059533357620239)], [('Florida', 0.7092082500457764)], 'None', [('Massachusetts', 0.6257333755493164)], [('Minnesota', 0.6576566696166992)], [('Texas', 0.6440964341163635)], [('Philly', 0.6083205342292786)], [('Arizona', 0.6625389456748962)], [('Minnesota', 0.6167149543762207)], [('Florida', 0.6415852308273315)], [('Indiana', 0.6532625555992126)], [('Texas', 0.6332094669342041)], [('Michigan', 0.6920688152313232)], [('Tennessee', 0.5965744256973267)], [('Massachusetts', 0.6352487206459045)], [('Minnesota', 0.6455508470535278)], [('Colorado', 0.7084811329841614)], [('Maryland', 0.6304159164428711)], [('Minnesota', 0.5832948684692383)], [('Kentucky', 0.6628293395042419)], [('Oregon', 0.6770799160003662)], [('Arizona', 0.5628964900970459)], 'None', [('Nevada', 0.6913173198699951)], 'None', 'None', 'None', [('Oregon', 0.6464202404022217)], 'None', [('Louisiana', 0.7375684976577759)], 'None', [('California', 0.6388465166091919)], [('California', 0.48601233959198)], [('Ohio', 0.7162179350852966)], [('Arizona', 0.5628964900970459)], [('Florida', 0.7408366203308105)], 'None', [('Massachusetts', 0.660212516784668)], [('Illinois', 0.5942000150680542)], [('Philly', 0.6414670944213867)], [('Arizona', 0.6286649107933044)], [('Florida', 0.6351211667060852)], [('Indiana', 0.6309922933578491)], [('Michigan', 0.6432341933250427)], [('Tennessee', 0.6454014182090759)], [('Massachusetts', 0.6154614686965942)], [('Oregon', 0.5420159697532654)], [('Colorado', 0.661550760269165)], [('Maryland', 0.6663400530815125)], [('Tennessee', 0.6564301252365112)], [('Kentucky', 0.6979007720947266)], [('Wisconsin', 0.6485016942024231)], [('Oregon', 0.6466696858406067)], [('Arizona', 0.7317990064620972)], [('Arizona', 0.529667317867279)], 'None', [('Nevada', 0.6347067952156067)], 'None', 'None', 'None', [('Idaho', 0.6078705787658691)], 'None', [('Louisiana', 0.678338348865509)], 'None', [('California', 0.5938523411750793)], [('California', 0.5394589900970459)], [('Ohio', 0.6690607070922852)], [('Arizona', 0.529667317867279)], [('Florida', 0.6519505977630615)], 'None', [('Massachusetts', 0.5954663753509521)], [('Illinois', 0.5789862871170044)], [('Philly', 0.5674778819084167)], [('Arizona', 0.5984616279602051)], [('Florida', 0.603607177734375)], [('Indiana', 0.5905651450157166)], [('Michigan', 0.6276055574417114)], [('Oklahoma', 0.6142795085906982)], [('Massachusetts', 0.594626247882843)], [('Oregon', 0.5830698609352112)], [('Colorado', 0.6290041208267212)], [('Maryland', 0.6157504320144653)], [('Tennessee', 0.589771568775177)], [('Kentucky', 0.6402006149291992)], [('Wisconsin', 0.6441916823387146)], [('Oregon', 0.6402555108070374)], [('Arizona', 0.6436635255813599)], [('Bakersfield', 0.6155811548233032)], 'None', [('Nevada', 0.7073401212692261)], [('Texas', 0.5734768509864807)], 'None', 'None', [('Oregon', 0.6880845427513123)], 'None', [('Arkansas', 0.684876561164856)], 'None', [('California', 0.5667399168014526)], [('Nevada', 0.458077073097229)], [('Ohio', 0.6551801562309265)], 'None', [('Florida', 0.6759904623031616)], 'None', [('Massachusetts', 0.6110051870346069)], [('Illinois', 0.5973089337348938)], [('Texas', 0.6620984077453613)], [('Philly', 0.5943312644958496)], [('Texas', 0.6590067148208618)], [('Alabama', 0.6191514134407043)], [('Indiana', 0.6231497526168823)], [('Texas', 0.6738511323928833)], [('Michigan', 0.630678653717041)], [('Arkansas', 0.6824088096618652)], [('Massachusetts', 0.5950455069541931)], [('Oregon', 0.6247702240943909)], [('Colorado', 0.7096208333969116)], [('Maryland', 0.6543291807174683)], [('Tennessee', 0.6948025822639465)], [('Kentucky', 0.7182052135467529)], [('Wisconsin', 0.6500904560089111)], [('Oregon', 0.6977043747901917)], [('Oregon', 0.6631309986114502)], [('Oregon', 0.6228196620941162)], 'None', 'None', 'None', 'None', 'None', 'None', 'None', 'None', 'None', 'None', 'None', 'None', 'None', 'None', 'None', 'None', 'None', 'None', 'None', 'None', 'None', 'None', 'None', 'None', 'None', 'None', 'None', 'None', 'None', 'None', 'None', 'None', 'None', 'None', 'None', 'None', 'None', 'None', [('Texas', 0.4849116802215576)], 'None', 'None', [('Idaho', 0.6893908977508545)], 'None', [('Louisiana', 0.7213003039360046)], 'None', [('California', 0.6256526112556458)], [('California', 0.4966404438018799)], [('Ohio', 0.7111518383026123)], 'None', [('Arizona', 0.5904711484909058)], [('Florida', 0.7231114506721497)], 'None', [('Massachusetts', 0.6276763677597046)], [('Illinois', 0.6897852420806885)], [('Texas', 0.6658176183700562)], [('Pennsylvania', 0.6455950736999512)], [('Arizona', 0.6865954995155334)], [('Texas', 0.6377517580986023)], [('Florida', 0.6300591230392456)], [('Indiana', 0.6725410223007202)], [('Texas', 0.674041748046875)], [('Michigan', 0.7034563422203064)], [('Tennessee', 0.7070193290710449)], [('Massachusetts', 0.6944137811660767)], [('Oregon', 0.6151428818702698)], [('Colorado', 0.7146872282028198)], [('Maryland', 0.71712726354599)], [('Tennessee', 0.683332085609436)], [('Kentucky', 0.7664872407913208)], [('Wisconsin', 0.7253584861755371)], [('Oregon', 0.7056493163108826)], [('Arizona', 0.7834314703941345)], [('California', 0.6257772445678711)], [('California', 0.7151470184326172)], [('Arizona', 0.6346442699432373)], [('Georgia', 0.64017653465271)], 'None', 'None', 'None', 'None', 'None', 'None', 'None', 'None', 'None', 'None', 'None', 'None', 'None', 'None', 'None', 'None', 'None', 'None', 'None', 'None', 'None', 'None', 'None', 'None', 'None', 'None', 'None', 'None', 'None', 'None', 'None', 'None', 'None', 'None', 'None', 'None', 'None', 'None', [('Yakima', 0.6631324887275696)], 'None', [('Louisiana', 0.6582788228988647)], 'None', [('California', 0.6142193078994751)], [('California', 0.5236413478851318)], [('Ohio', 0.6815259456634521)], [('Arizona', 0.6388999223709106)], [('Florida', 0.6502949595451355)], 'None', [('Massachusetts', 0.519208550453186)], [('Illinois', 0.6308406591415405)], [('Philly', 0.5874073505401611)], [('Arizona', 0.6975804567337036)], [('Alabama', 0.659963846206665)], [('Indiana', 0.6404192447662354)], [('Michigan', 0.6192631721496582)], [('Tennessee', 0.6774153709411621)], [('Massachusetts', 0.5345286726951599)], [('Oregon', 0.594057023525238)], [('Colorado', 0.7064803838729858)], [('Maryland', 0.5856802463531494)], [('Tennessee', 0.6585726141929626)], [('Kentucky', 0.707704484462738)], [('Wisconsin', 0.6468108892440796)], [('Oregon', 0.6929405927658081)], [('Arizona', 0.7096354961395264)], [('Arizona', 0.6068218946456909)], [('Fresno', 0.6380273103713989)], [('Arizona', 0.6244255304336548)], [('Alabama', 0.5966765880584717)], [('Nebraska', 0.6256169080734253)], [('Florida', 0.6650059819221497)], 'None', 'None', 'None', 'None', 'None', 'None', 'None', 'None', 'None', 'None', 'None', 'None', 'None', 'None', 'None', 'None', 'None', 'None', 'None', 'None', 'None', 'None', 'None', 'None', 'None', 'None', 'None', 'None', 'None', 'None', 'None', 'None', 'None', 'None', 'None', 'None', 'None', 'None', 'None', 'None', 'None', 'None', 'None', 'None', 'None', 'None', 'None', 'None', 'None', 'None', 'None', 'None', 'None', 'None', 'None', 'None', 'None', 'None', 'None', 'None', 'None', 'None', 'None', 'None', 'None', [('Louisiana', 0.5740001201629639)], [('Ventura', 0.45543372631073)], [('Gibbs', 0.35274678468704224)], [('Cleveland', 0.5736532211303711)], 'None', [('Burbank', 0.42283132672309875)], [('Florida', 0.5199986696243286)], 'None', [('Gloucester', 0.5667837262153625)], [('Emanuel', 0.46197718381881714)], [('Dallas', 0.5202967524528503)], [('Philly', 0.5438592433929443)], [('Houston', 0.422184020280838)], [('Houston', 0.5724448561668396)], [('Miami', 0.4913015365600586)], [('Indiana', 0.49145668745040894)], [('Texas', 0.4801051616668701)], [('Cleveland', 0.4537760615348816)], [('Atlanta', 0.4720069468021393)], [('Philadelphia', 0.45994555950164795)], [('Philadelphia', 0.48293304443359375)], [('Maryland', 0.5806162357330322)], [('Atlanta', 0.5045292377471924)], [('Georgetown', 0.5688707828521729)], [('Philadelphia', 0.4748530387878418)], [('Boston', 0.45571547746658325)], [('Arizona', 0.5320048928260803)], [('Sacramento', 0.4760855436325073)], [('California', 0.46343421936035156)], [('Arizona', 0.38174256682395935)], [('Philadelphia', 0.4762938618659973)], [('Nebraska', 0.42349937558174133)], [('Florida', 0.4727856516838074)], [('Oklahoma', 0.5607315301895142)], [('Baltimore', 0.4525172710418701)], [('Philadelphia', 0.48369431495666504)], 'None', 'None', 'None', 'None', 'None', 'None', 'None', 'None', 'None', 'None', 'None', 'None', 'None', 'None', 'None', 'None', 'None', 'None', 'None', 'None', 'None', 'None', 'None', 'None', 'None', 'None', 'None', 'None', 'None', 'None', 'None', 'None', 'None', 'None', [('California', 0.6469345092773438)], [('California', 0.5109391808509827)], [('Ohio', 0.7240660786628723)], 'None', [('Arizona', 0.541179895401001)], [('Florida', 0.7112122178077698)], 'None', [('Massachusetts', 0.6601055860519409)], [('Illinois', 0.6511208415031433)], [('Texas', 0.632577657699585)], [('Pennsylvania', 0.6600886583328247)], [('Arizona', 0.6254251003265381)], [('Texas', 0.6352822780609131)], [('Florida', 0.67254638671875)], [('Indiana', 0.6445358991622925)], [('Texas', 0.6401352286338806)], [('Michigan', 0.6705648899078369)], [('Tennessee', 0.6579017639160156)], [('Massachusetts', 0.7010068893432617)], [('Oregon', 0.6133514642715454)], [('Colorado', 0.697604238986969)], [('Maryland', 0.7185147404670715)], [('Tennessee', 0.6410552859306335)], [('Kentucky', 0.7303848266601562)], [('Wisconsin', 0.731597900390625)], [('Oregon', 0.6719813346862793)], [('Arizona', 0.7109748125076294)], [('California', 0.6273676156997681)], [('California', 0.6865969896316528)], [('Arizona', 0.5629193782806396)], [('Georgia', 0.6161507368087769)], [('Nebraska', 0.6415066719055176)], [('Florida', 0.6715013980865479)], [('Oklahoma', 0.7682231664657593)], [('California', 0.5608482956886292)], [('Ohio', 0.6326291561126709)], [('Minnesota', 0.7041373252868652)], [('Kansas', 0.7507303953170776)], 'None', 'None', 'None', 'None', 'None', 'None', 'None', 'None', 'None', 'None', 'None', 'None', 'None', 'None', 'None', 'None', 'None', 'None', 'None', 'None', 'None', 'None', 'None', 'None', 'None', 'None', 'None', 'None', 'None', 'None', 'None', 'None', 'None', 'None', 'None', 'None', 'None', 'None', [('Ohio', 0.7023536562919617)], 'None', [('Florida', 0.6460831165313721)], 'None', [('Massachusetts', 0.6544832587242126)], [('Illinois', 0.630947470664978)], [('Texas', 0.594467043876648)], [('Pennsylvania', 0.6343599557876587)], [('Arizona', 0.6229380965232849)], [('Texas', 0.581271767616272)], [('Tennessee', 0.633177638053894)], [('Indiana', 0.6532917022705078)], [('Texas', 0.5999298095703125)], [('Michigan', 0.6342946887016296)], [('Tennessee', 0.6745206117630005)], [('Massachusetts', 0.6509655117988586)], [('Oregon', 0.5941228270530701)], [('Colorado', 0.6991585493087769)], [('Maryland', 0.6814880967140198)], [('Tennessee', 0.6336277723312378)], [('Kentucky', 0.7348992824554443)], [('Wisconsin', 0.6882083415985107)], [('Oregon', 0.6691598892211914)], [('Arizona', 0.7128609418869019)], [('Arizona', 0.6268431544303894)], [('Georgia', 0.5764278769493103)], [('Nebraska', 0.5627276301383972)], [('Florida', 0.6291157603263855)], [('Oklahoma', 0.6713954210281372)], [('Ohio', 0.6060798168182373)], [('Minnesota', 0.6768283247947693)], [('Kansas', 0.689562976360321)], [('Virginia', 0.5603563785552979)], [('Ohio', 0.6265451908111572)], 'None', [('Florida', 0.6379375457763672)], 'None', [('Massachusetts', 0.629740297794342)], [('Illinois', 0.5781348943710327)], [('Texas', 0.6164782643318176)], [('Pennsylvania', 0.5677574872970581)], [('Arizona', 0.6378328204154968)], [('Texas', 0.60096275806427)], [('Florida', 0.6078155636787415)], [('Indiana', 0.6133055686950684)], [('Texas', 0.6327850222587585)], [('Michigan', 0.5657263994216919)], [('Tennessee', 0.587677538394928)], [('Massachusetts', 0.644420862197876)], [('Oregon', 0.6244419813156128)], [('Colorado', 0.6696892976760864)], [('Maryland', 0.6711275577545166)], [('Tennessee', 0.5862687826156616)], [('Kentucky', 0.6453966498374939)], [('Wisconsin', 0.6426920294761658)], [('Oregon', 0.6942348480224609)], [('Arizona', 0.666164219379425)], [('Arizona', 0.5803500413894653)], [('Georgia', 0.5682410001754761)], [('Nebraska', 0.5830988883972168)], [('Florida', 0.6313800811767578)], [('Oklahoma', 0.6956573724746704)], [('Ohio', 0.5527355670928955)], [('Minnesota', 0.6452097296714783)], [('Oklahoma', 0.6379989981651306)], [('Virginia', 0.5452784299850464)], 'None', 'None', [('California', 0.5281121730804443)], [('Florida', 0.6885524988174438)], 'None', [('Massachusetts', 0.58603435754776)], [('Illinois', 0.6882928013801575)], [('Texas', 0.6855286359786987)], [('Pennsylvania', 0.6713087558746338)], [('Arizona', 0.619916558265686)], [('Texas', 0.6642289161682129)], [('Florida', 0.6387678980827332)], [('Indiana', 0.7001199722290039)], [('Texas', 0.6620348691940308)], [('Michigan', 0.6848669052124023)], [('Tennessee', 0.7017772197723389)], [('Massachusetts', 0.6422993540763855)], [('Oregon', 0.6375287771224976)], [('Colorado', 0.6906894445419312)], [('Maryland', 0.6726343631744385)], [('Tennessee', 0.6644201874732971)], [('Kentucky', 0.7675336003303528)], [('Wisconsin', 0.7251625061035156)], [('Oregon', 0.7283711433410645)], [('Arizona', 0.7294880151748657)], [('California', 0.6527302861213684)], [('California', 0.713039755821228)], [('Arizona', 0.5618599653244019)], [('Georgia', 0.6622031927108765)], [('Nebraska', 0.6301326751708984)], [('Florida', 0.6823148727416992)], [('Oklahoma', 0.7632438540458679)], [('California', 0.5863851308822632)], [('Minnesota', 0.6793793439865112)], [('Kansas', 0.744239091873169)], [('Texas', 0.5470930933952332)], [('California', 0.6845439672470093)], 'None', 'None', 'None', 'None', 'None', 'None', 'None', 'None', 'None', 'None', 'None', 'None', 'None', 'None', 'None', 'None', 'None', 'None', 'None', 'None', 'None', 'None', 'None', 'None', 'None', 'None', 'None', 'None', 'None', 'None', 'None', 'None', 'None', 'None', 'None', 'None', 'None', [('Florida', 0.6158104538917542)], 'None', [('Massachusetts', 0.6474118232727051)], [('Illinois', 0.5410593152046204)], [('Texas', 0.6468133330345154)], [('Pennsylvania', 0.5780813694000244)], [('Arizona', 0.5333135724067688)], [('Texas', 0.6323217153549194)], [('Florida', 0.5843164920806885)], [('Indiana', 0.5872358679771423)], [('Texas', 0.6277097463607788)], [('Michigan', 0.5916641354560852)], [('Tennessee', 0.6009185314178467)], [('Massachusetts', 0.6495901346206665)], [('Oregon', 0.5857523083686829)], [('Colorado', 0.6265740394592285)], [('Maryland', 0.662865400314331)], [('Tennessee', 0.5904535055160522)], [('Kentucky', 0.6779189109802246)], [('Wisconsin', 0.612465500831604)], [('Oregon', 0.6568732857704163)], [('Arizona', 0.5890809893608093)], [('Nevada', 0.5444175004959106)], [('Georgia', 0.5275775790214539)], [('Nebraska', 0.5682529211044312)], [('Florida', 0.6157808303833008)], [('Oklahoma', 0.6483839154243469)], [('Ohio', 0.5552149415016174)], [('Minnesota', 0.6029918789863586)], [('Kansas', 0.667235255241394)], [('Texas', 0.5738863348960876)], 'None', [('Hawaii', 0.6887427568435669)], [('Pennsylvania', 0.5749316811561584)], 'None', [('Massachusetts', 0.6012693047523499)], [('Illinois', 0.5895936489105225)], [('Texas', 0.6475028395652771)], [('Philly', 0.6430041790008545)], [('Arizona', 0.6293995976448059)], [('Texas', 0.6281416416168213)], [('Indiana', 0.6276373863220215)], [('Texas', 0.6880648136138916)], [('Michigan', 0.6560839414596558)], [('Tennessee', 0.6161946058273315)], [('Massachusetts', 0.5893935561180115)], [('Minnesota', 0.5391501784324646)], [('Colorado', 0.7184380292892456)], [('Maryland', 0.6240059733390808)], [('Tennessee', 0.6209881901741028)], [('Kentucky', 0.6611331105232239)], [('Wisconsin', 0.6240841746330261)], [('Oregon', 0.6161841154098511)], [('Arizona', 0.7599260210990906)], [('California', 0.6233370304107666)], [('California', 0.7132121920585632)], [('Arizona', 0.607439398765564)], [('Philadelphia', 0.5521506071090698)], [('Nebraska', 0.597235381603241)], [('Oklahoma', 0.705162525177002)], [('California', 0.5216897130012512)], [('Ohio', 0.5977210998535156)], [('Minnesota', 0.7121745347976685)], [('Kansas', 0.70113605260849)], [('Texas', 0.544520378112793)], [('California', 0.6485669612884521)], 'None', [('Hawaii', 0.71635901927948)], [('Philadelphia', 0.61008220911026)], [('Kentucky', 0.6071103811264038)], 'None', 'None', 'None', 'None', 'None', 'None', 'None', 'None', 'None', 'None', 'None', 'None', 'None', 'None', 'None', 'None', 'None', 'None', 'None', 'None', 'None', 'None', 'None', 'None', 'None', 'None', 'None', 'None', 'None', 'None', 'None', 'None', 'None', 'None', 'None', 'None', 'None', 'None', 'None', [('Illinois', 0.6038535833358765)], [('Texas', 0.6791169047355652)], [('Pennsylvania', 0.6008427143096924)], [('Arizona', 0.6284605264663696)], [('Texas', 0.6543144583702087)], [('Florida', 0.5962749719619751)], [('Indiana', 0.6096659898757935)], [('Texas', 0.6625909805297852)], [('Michigan', 0.6558677554130554)], [('Tennessee', 0.6478687524795532)], [('Oregon', 0.5802785158157349)], [('Colorado', 0.6470597386360168)], [('Maryland', 0.6438847780227661)], [('Tennessee', 0.6200284361839294)], [('Kentucky', 0.7104929089546204)], [('Wisconsin', 0.6957861185073853)], [('Oregon', 0.6780836582183838)], [('Arizona', 0.6856509447097778)], [('California', 0.6966496706008911)], [('California', 0.7165377140045166)], [('Arizona', 0.5925300717353821)], [('Georgia', 0.5272549390792847)], [('Nebraska', 0.6441953182220459)], [('Florida', 0.6275337338447571)], [('Oklahoma', 0.6988499164581299)], [('California', 0.5698494911193848)], [('Ohio', 0.624506950378418)], [('Minnesota', 0.651694118976593)], [('Kansas', 0.7140392661094666)], [('Texas', 0.5483117699623108)], [('California', 0.684593677520752)], 'None', 'None', [('Hawaii', 0.7073838710784912)], [('Pennsylvania', 0.5550501346588135)], [('Kentucky', 0.6009086966514587)], 'None', [('Ohio', 0.627477765083313)]]\n"
          ]
        }
      ]
    }
  ]
}