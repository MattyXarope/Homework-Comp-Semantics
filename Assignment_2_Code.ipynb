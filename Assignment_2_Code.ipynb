{
  "nbformat": 4,
  "nbformat_minor": 0,
  "metadata": {
    "colab": {
      "name": "Assignment 2 - Code.ipynb",
      "provenance": [],
      "collapsed_sections": [
        "KEnSJ30oLXat",
        "X1kiZfEVK8Th",
        "4Bvpxa_PLLNM",
        "Bc89QxxkLQzV"
      ],
      "include_colab_link": true
    },
    "kernelspec": {
      "display_name": "Python 3",
      "name": "python3"
    },
    "language_info": {
      "name": "python"
    }
  },
  "cells": [
    {
      "cell_type": "markdown",
      "metadata": {
        "id": "view-in-github",
        "colab_type": "text"
      },
      "source": [
        "<a href=\"https://colab.research.google.com/github/MattyXarope/Homework-Comp-Semantics/blob/main/Assignment_2_Code.ipynb\" target=\"_parent\"><img src=\"https://colab.research.google.com/assets/colab-badge.svg\" alt=\"Open In Colab\"/></a>"
      ]
    },
    {
      "cell_type": "markdown",
      "metadata": {
        "id": "KEnSJ30oLXat"
      },
      "source": [
        "# Import Packages"
      ]
    },
    {
      "cell_type": "code",
      "metadata": {
        "colab": {
          "base_uri": "https://localhost:8080/"
        },
        "id": "KGPxhD8PCrHm",
        "outputId": "3bb7c7ee-cc3d-4e5c-f53e-2c837ee924d2"
      },
      "source": [
        "# -*- coding: utf-8 -*- \n",
        "import nltk\n",
        "nltk.download('wordnet')\n",
        "nltk.download('word2vec_sample')\n",
        "from nltk.corpus import wordnet \n",
        "import pandas as pd\n",
        "import gensim\n",
        "from matplotlib import pyplot as plt\n",
        "import numpy as np\n",
        "import base64\n",
        "import requests\n",
        "import collections\n",
        "from collections import Counter"
      ],
      "execution_count": null,
      "outputs": [
        {
          "output_type": "stream",
          "name": "stdout",
          "text": [
            "[nltk_data] Downloading package wordnet to /root/nltk_data...\n",
            "[nltk_data]   Unzipping corpora/wordnet.zip.\n",
            "[nltk_data] Downloading package word2vec_sample to /root/nltk_data...\n",
            "[nltk_data]   Unzipping models/word2vec_sample.zip.\n"
          ]
        }
      ]
    },
    {
      "cell_type": "markdown",
      "metadata": {
        "id": "X1kiZfEVK8Th"
      },
      "source": [
        "# Exercise 1"
      ]
    },
    {
      "cell_type": "code",
      "metadata": {
        "colab": {
          "base_uri": "https://localhost:8080/"
        },
        "id": "grcHEvqOC0Mq",
        "outputId": "79028252-b5c0-4cfc-ec86-a70cc341f5a2"
      },
      "source": [
        "## Exercise 1 ##\n",
        "\n",
        "#Tests to see how many senses there are for the word language \n",
        "word = 'language'\n",
        "synsets = wordnet.synsets(word, lang=\"eng\")\n",
        "n_synsets = len(synsets)\n",
        "\n",
        "#Prints information about synsets for the word \n",
        "print(f'Lemma English: {word}')\n",
        "print(f'Number of synsets: {n_synsets}')\n",
        "print(f'Synsets details: ')\n",
        "for ss in synsets:\n",
        "    print(f'Name: {ss.name()}')\n",
        "    print(f'Gloss: {ss.definition()}')\n",
        "    print(f'Lemmas English: {ss.lemmas()}')\n",
        "    print(f'\\n')\n",
        "    \n",
        "#Establishes a concordance list for the word language in the Brown corpus (commented out due to use of sketch engine)\n",
        "# corpus = brown.words()\n",
        "# text = Text(corpus)\n",
        "# con_list = text.concordance_list(\"language\", width=250, lines=100)\n",
        "# df = pd.DataFrame(data={\"Utterance\": con_list})\n",
        "# df.to_csv(\"./Brown100.csv\", sep=',',index=False)\n",
        "\n",
        "#Adds file from SketchEngine of 100 instances of 'language' in the Brown corpus \n",
        "\n",
        "CSV_BROWN = \"https://raw.githubusercontent.com/MattyXarope/Homework-Comp-Semantics/main/Brown100Final.csv\"\n",
        "lang_syn = pd.read_csv(CSV_BROWN)\n",
        "\n",
        "#Create contigency table using data from lang_syn\n",
        "adelle = lang_syn['adelle']\n",
        "matt = lang_syn['matt']\n",
        "annotations = pd.DataFrame({'Adelle': adelle, 'Matt': matt})\n",
        "\n",
        "#Print contigency table data\n",
        "print(f'******************\\n')\n",
        "print('contingency table: ')\n",
        "print(f'******************\\n\\n')\n",
        "# note the 'margins=True' parameter -- make sure you understand what it does\n",
        "print(pd.crosstab(annotations['Adelle'], annotations['Matt'], margins=True))"
      ],
      "execution_count": null,
      "outputs": [
        {
          "output_type": "stream",
          "name": "stdout",
          "text": [
            "Lemma English: language\n",
            "Number of synsets: 6\n",
            "Synsets details: \n",
            "Name: language.n.01\n",
            "Gloss: a systematic means of communicating by the use of sounds or conventional symbols\n",
            "Lemmas English: [Lemma('language.n.01.language'), Lemma('language.n.01.linguistic_communication')]\n",
            "\n",
            "\n",
            "Name: speech.n.02\n",
            "Gloss: (language) communication by word of mouth\n",
            "Lemmas English: [Lemma('speech.n.02.speech'), Lemma('speech.n.02.speech_communication'), Lemma('speech.n.02.spoken_communication'), Lemma('speech.n.02.spoken_language'), Lemma('speech.n.02.language'), Lemma('speech.n.02.voice_communication'), Lemma('speech.n.02.oral_communication')]\n",
            "\n",
            "\n",
            "Name: lyric.n.01\n",
            "Gloss: the text of a popular song or musical-comedy number\n",
            "Lemmas English: [Lemma('lyric.n.01.lyric'), Lemma('lyric.n.01.words'), Lemma('lyric.n.01.language')]\n",
            "\n",
            "\n",
            "Name: linguistic_process.n.02\n",
            "Gloss: the cognitive processes involved in producing and understanding linguistic communication\n",
            "Lemmas English: [Lemma('linguistic_process.n.02.linguistic_process'), Lemma('linguistic_process.n.02.language')]\n",
            "\n",
            "\n",
            "Name: language.n.05\n",
            "Gloss: the mental faculty or power of vocal communication\n",
            "Lemmas English: [Lemma('language.n.05.language'), Lemma('language.n.05.speech')]\n",
            "\n",
            "\n",
            "Name: terminology.n.01\n",
            "Gloss: a system of words used to name things in a particular discipline\n",
            "Lemmas English: [Lemma('terminology.n.01.terminology'), Lemma('terminology.n.01.nomenclature'), Lemma('terminology.n.01.language')]\n",
            "\n",
            "\n",
            "******************\n",
            "\n",
            "contingency table: \n",
            "******************\n",
            "\n",
            "\n",
            "Matt    s1  s2  s3  s4  s5  s6  All\n",
            "Adelle                             \n",
            "s1      53  10   0   3   0   4   70\n",
            "s2       7   1   0   0   0   0    8\n",
            "s3       0   0   1   0   0   0    1\n",
            "s4       4   0   0   0   0   0    4\n",
            "s5       2   0   0   0   1   1    4\n",
            "s6       0   5   0   0   0   8   13\n",
            "All     66  16   1   3   1  13  100\n"
          ]
        }
      ]
    },
    {
      "cell_type": "markdown",
      "metadata": {
        "id": "4Bvpxa_PLLNM"
      },
      "source": [
        "# Exercise 2"
      ]
    },
    {
      "cell_type": "code",
      "metadata": {
        "colab": {
          "base_uri": "https://localhost:8080/"
        },
        "id": "ZhuJT2dCDJFp",
        "outputId": "753c9e4b-30b7-4c19-9c2a-005f54859c3b"
      },
      "source": [
        "## Exercise 2 ## \n",
        "\n",
        "#Does some calculations about the data from part 1\n",
        "\n",
        "#S1 Info\n",
        "#Gloss: a systematic means of communicating by the use of sounds or conventional symbols\n",
        "#Percent of all utterances \n",
        "all_percentS1 = (53/100)*100\n",
        "print(f'S1 was agreed upon by both annotators in {all_percentS1}% of all utterances')\n",
        "\n",
        "#S2 Info\n",
        "#Gloss: (language) communication by word of mouth\n",
        "#Percent of all utterances \n",
        "all_percentS2 = (1/100)*100\n",
        "print(f'S2 was agreed upon by both annotators in {all_percentS2}% of all utterances')\n",
        "\n",
        "#S3 Info\n",
        "#Gloss: the text of a popular song or musical-comedy number\n",
        "#Percent of all utterances \n",
        "all_percentS3 = (1/100)*100\n",
        "print(f'S3 was agreed upon by both annotators in {all_percentS3}% of all utterances')\n",
        "\n",
        "#S4 Info\n",
        "#Gloss: the cognitive processes involved in producing and understanding linguistic communication\n",
        "#Percent of all utterances \n",
        "all_percentS4 = (0/100)*100\n",
        "print(f'S4 was agreed upon by both annotators in {all_percentS4}% of all utterances')\n",
        "\n",
        "#S5 Info\n",
        "#Gloss: the mental faculty or power of vocal communication\n",
        "#Percent of all utterances \n",
        "all_percentS5 = (1/100)*100\n",
        "print(f'S5 was agreed upon by both annotators in {all_percentS5}% of all utterances')\n",
        "\n",
        "#S6 Info\n",
        "#Gloss: a system of words used to name things in a particular discipline\n",
        "#Percent of all utterances \n",
        "all_percentS6 = (8/100)*100\n",
        "print(f'S6 was agreed upon by both annotators in {all_percentS6}% of all utterances')\n",
        "\n",
        "#Print General Info for this section\n",
        "all_agreements = all_percentS1 + all_percentS2 + all_percentS3 + all_percentS4 + all_percentS5 + all_percentS6\n",
        "print(f'The annotators agreed on {all_agreements}% of all utterances')"
      ],
      "execution_count": null,
      "outputs": [
        {
          "output_type": "stream",
          "name": "stdout",
          "text": [
            "S1 was agreed upon by both annotators in 53.0% of all utterances\n",
            "S2 was agreed upon by both annotators in 1.0% of all utterances\n",
            "S3 was agreed upon by both annotators in 1.0% of all utterances\n",
            "S4 was agreed upon by both annotators in 0.0% of all utterances\n",
            "S5 was agreed upon by both annotators in 1.0% of all utterances\n",
            "S6 was agreed upon by both annotators in 8.0% of all utterances\n",
            "The annotators agreed on 64.0% of all utterances\n"
          ]
        }
      ]
    },
    {
      "cell_type": "markdown",
      "metadata": {
        "id": "Bc89QxxkLQzV"
      },
      "source": [
        "# Exercise 3"
      ]
    },
    {
      "cell_type": "code",
      "metadata": {
        "id": "BTwY0cc9DaY5",
        "colab": {
          "base_uri": "https://localhost:8080/"
        },
        "outputId": "c5c4beff-82d6-4888-877c-8b2736d1e441"
      },
      "source": [
        "## Exercise 3 ## \n",
        "\n",
        "#Sets path for word2vec models\n",
        "path_to_word2vec_sample = nltk.data.find('models/word2vec_sample/pruned.word2vec.txt')\n",
        "word2vec_gensim = gensim.models.KeyedVectors.load_word2vec_format(path_to_word2vec_sample)\n",
        "\n",
        "###Determines synonyms/antonyms###\n",
        "\n",
        "#Extracts the synonyms and hyponyms from wordnet\n",
        "lemmas=[]\n",
        "synonyms=[]\n",
        "antonyms=[]\n",
        "\n",
        "for word in wordnet.words(): \n",
        "    for syn in wordnet.synsets(word)[5:]: \n",
        "      for l in syn.lemmas():\n",
        "        if len(wordnet.synsets(word)) > 0 and len(l.antonyms()) > 0: \n",
        "          lemmas.append(syn.lemma_names()[0]) \n",
        "          synonyms.append(wordnet.synsets(word)[0].lemma_names()[0])\n",
        "          if l.antonyms():\n",
        "            antonyms.append(l.antonyms()[0].name())\n",
        "\n",
        "#Fucntion to compare the cosine similarites in word2vec \n",
        "def cosine_gensim(list1, list2):\n",
        "  similarities = []\n",
        "  for elem1,elem2 in zip(list1,list2):\n",
        "    if elem1 in word2vec_gensim and elem2 in word2vec_gensim:\n",
        "      similarities.append(word2vec_gensim.similarity(elem1, elem2))  \n",
        "  return similarities\n",
        "\n",
        "\n",
        "#This just pairs them down to 500 data points\n",
        "synonyms500 = synonyms[:500]\n",
        "antonyms500 = antonyms[:500]\n",
        "\n",
        "#Gets the cosine similarity of the two groups \n",
        "syns_similar = cosine_gensim(lemmas, synonyms500)\n",
        "ants_similar = cosine_gensim(lemmas, antonyms500)\n",
        "\n",
        "\n",
        "###Determines hypo/hypernyms###\n",
        "\n",
        "#Extracts the hypernyms and hyponyms from wordnet \n",
        "lemmas2=[]\n",
        "hypernyms=[]\n",
        "hyponyms=[]\n",
        "\n",
        "for word in wordnet.words(): \n",
        "    for syn in wordnet.synsets(word)[5:]: \n",
        "      for l in syn.lemmas():\n",
        "        if len(syn.hypernyms()) > 0 and len(syn.hyponyms()) > 0: \n",
        "          lemmas2.append(syn.lemma_names()[0]) \n",
        "          hypernyms.append(syn.hypernyms()[0].lemma_names()[0])\n",
        "          hyponyms.append(syn.hyponyms()[0].lemma_names()[0])\n",
        "\n",
        "#This just pairs them down to 500 data points\n",
        "hypernyms500 = hypernyms[:500]\n",
        "hyponyms500 = hyponyms[:500]\n",
        "\n",
        "#Gets the cosine similarity of the two groups \n",
        "hyper_similar = cosine_gensim(lemmas2, hypernyms500)\n",
        "hypo_similar = cosine_gensim(lemmas2, hyponyms500)\n",
        "\n",
        "#Plot for cosine info\n",
        "fig, ax = plt.subplots()\n",
        "ax.boxplot([syns_similar, ants_similar, hyper_similar, hypo_similar], widths=0.5)\n",
        "plt.xticks([1, 2, 3, 4], ['Synonyms', 'Antonyms', 'Hypernyms', 'Hyponyms'])\n",
        "plt.xlabel(\"Distribution\")\n",
        "plt.ylabel(\"Similarity\")"
      ],
      "execution_count": null,
      "outputs": [
        {
          "output_type": "stream",
          "name": "stderr",
          "text": [
            "/usr/local/lib/python3.7/dist-packages/numpy/core/_asarray.py:83: VisibleDeprecationWarning: Creating an ndarray from ragged nested sequences (which is a list-or-tuple of lists-or-tuples-or ndarrays with different lengths or shapes) is deprecated. If you meant to do this, you must specify 'dtype=object' when creating the ndarray\n",
            "  return array(a, dtype, copy=False, order=order)\n"
          ]
        },
        {
          "output_type": "execute_result",
          "data": {
            "text/plain": [
              "Text(0, 0.5, 'Similarity')"
            ]
          },
          "metadata": {},
          "execution_count": 5
        },
        {
          "output_type": "display_data",
          "data": {
            "image/png": "[encoded data removed]",
            "text/plain": [
              "<Figure size 432x288 with 1 Axes>"
            ]
          },
          "metadata": {
            "needs_background": "light"
          }
        }
      ]
    },
    {
      "cell_type": "code",
      "metadata": {
        "colab": {
          "base_uri": "https://localhost:8080/"
        },
        "id": "o70I1GBbjSGL",
        "outputId": "25ef835c-1fd3-4783-afdc-8de4e0374221"
      },
      "source": [
        "#Some calculations for the data and analysis \n",
        "\n",
        "print(\"Data Analysis for Exercise 3:\")\n",
        "print(f'\\n')\n",
        "\n",
        "#Calculates means of data for each category\n",
        "synsim = round(np.mean(cosine_gensim(lemmas, synonyms500))*100)\n",
        "antsim = round(np.mean(cosine_gensim(lemmas, antonyms500))*100)\n",
        "hypersim = round(np.mean(cosine_gensim(lemmas2, hypernyms500))*100)\n",
        "hyposim = round(np.mean(cosine_gensim(lemmas2, hyponyms500))*100)\n",
        "\n",
        "print(f'Synonyms show a {synsim}% similarity to their lemmas')\n",
        "print(f'Antonyms show a {antsim}% similarity to their lemmas')\n",
        "print(f'Hypernyms show a {hypersim}% similarity to their lemmas')\n",
        "print(f'Hyponyms show a {hyposim}% similarity to their lemmas')\n",
        "print(f'There is a {synsim-antsim}% difference between the similarities of synonyms and antonyms')\n",
        "print(f'There is a {hypersim-hyposim}% difference between the similarities of hypernyms and hyponyms')\n",
        "print(f'\\n')\n",
        "\n",
        "#Data analysis for hypothesis explanations for part 3\n",
        "print(\"Data Analysis for Hypotheses Explanations in Exercise 3:\")\n",
        "print(f'\\n')\n",
        "\n",
        "#Calcuation for 'good' in hypothesis 1 explanation\n",
        "lemmas=[]\n",
        "synonyms=[]\n",
        "antonyms=[]\n",
        "\n",
        "word=\"good\"\n",
        "for syn in wordnet.synsets(word):\n",
        "  for l in syn.lemmas():\n",
        "    if len(wordnet.synsets(word)) > 0 and len(l.antonyms()) > 0:\n",
        "      lemmas.append(syn.lemma_names()[0])\n",
        "      synonyms.append(wordnet.synsets(word)[0].lemma_names()[0])\n",
        "      if l.antonyms():\n",
        "        antonyms.append(l.antonyms()[0].name())\n",
        "\n",
        "syns_good = round(np.mean(cosine_gensim(lemmas, synonyms))*100)\n",
        "ants_good = round(np.mean(cosine_gensim(lemmas, antonyms))*100)\n",
        "\n",
        "print(\"Calcuation for 'good' in hypothesis 1 explanation:\")\n",
        "print(f'The word good is {syns_good}% similar to its synonyms')\n",
        "print(f'The word good is {ants_good}% similar to its antonyms')\n",
        "print(f'\\n')\n",
        "\n",
        "#Calcuation for 'food/fruit/apple' in hypothesis 2 explanation\n",
        "food_fruit = round(np.mean(word2vec_gensim.similarity('food', 'fruit'))*100)\n",
        "food_apple = round(np.mean(word2vec_gensim.similarity('food', 'apple'))*100)\n",
        "print(\"Calcuation for 'food' in hypothesis 2 explanation:\")\n",
        "print(f'The word food is {food_fruit}% similar to fruit')\n",
        "print(f'The word food is {food_apple}% similar to apple')"
      ],
      "execution_count": null,
      "outputs": [
        {
          "output_type": "stream",
          "name": "stdout",
          "text": [
            "Data Analysis for Exercise 3:\n",
            "\n",
            "\n",
            "Synonyms show a 55% similarity to their lemmas\n",
            "Antonyms show a 38% similarity to their lemmas\n",
            "Hypernyms show a 26% similarity to their lemmas\n",
            "Hyponyms show a 19% similarity to their lemmas\n",
            "There is a 17% difference between the similarities of synonyms and antonyms\n",
            "There is a 7% difference between the similarities of hypernyms and hyponyms\n",
            "\n",
            "\n",
            "Data Analysis for Hypotheses Explanations in Exercise 3:\n",
            "\n",
            "\n",
            "Calcuation for 'good' in hypothesis 1 explanation:\n",
            "The word good is 93% similar to its synonyms\n",
            "The word good is 36% similar to its antonyms\n",
            "\n",
            "\n",
            "Calcuation for 'food' in hypothesis 2 explanation:\n",
            "The word food is 37% similar to fruit\n",
            "The word food is 22% similar to apple\n"
          ]
        }
      ]
    },
    {
      "cell_type": "markdown",
      "metadata": {
        "id": "I6AKX3LXJ44L"
      },
      "source": [
        "# Exercise 5"
      ]
    },
    {
      "cell_type": "code",
      "metadata": {
        "id": "MXNC6kj9oS4s"
      },
      "source": [
        "#Import city state list from Google Analogies \n",
        "master = \"https://raw.githubusercontent.com/MattyXarope/Homework-Comp-Semantics/main/citystate.txt\"\n",
        "req = requests.get(master)\n",
        "req = req.text\n",
        "\n",
        "#Split list into items\n",
        "citystate = req.split()\n",
        "\n",
        "#Separate items into lists \n",
        "city1 = citystate[0::4]\n",
        "state1 = citystate[1::4]\n",
        "city2 = citystate[2::4]\n",
        "state2 = citystate[3::4]\n",
        "\n",
        "#Define function to get the analogy using the first city state pair and the second city to get the second state \n",
        "def analogy(list1, list2, list3):\n",
        "  all_values = set(word2vec_gensim.vocab)\n",
        "  return(\n",
        "      [\n",
        "          word2vec_gensim.most_similar(positive=[three, two], negative=[one], topn=1)\n",
        "          if {one, two, three} <= all_values else 'None'\n",
        "          for one, two, three in zip(list1, list2, list3)\n",
        "      ]\n",
        "  )\n",
        "\n",
        "#Run the analogy function over the first city/state pair and the second city to get the second state\n",
        "x = analogy(city1,state1,city2)\n",
        "dict = {'City 1': city1, 'State 1': state1, 'City 2': city2, 'State 2': state2, 'State Word2Vec': x}\n",
        "\n",
        "#Save to a csv file, commented out because it's not necessary for others to have    \n",
        "#df = pd.DataFrame(dict) \n",
        "#df.to_csv('citystatevals.csv')"
      ],
      "execution_count": null,
      "outputs": []
    },
    {
      "cell_type": "code",
      "metadata": {
        "colab": {
          "base_uri": "https://localhost:8080/"
        },
        "id": "3lGbl7vBvUjs",
        "outputId": "a2810ce8-2957-473b-aec0-2cf766f579cf"
      },
      "source": [
        "#Analysis for Exercise 5\n",
        "\n",
        "print(\"Data Analysis for Exercise 5:\")\n",
        "print(f'\\n')\n",
        "\n",
        "#Import the cleaned CSV for city state comparison\n",
        "CSV_CITYSTATE = \"https://raw.githubusercontent.com/MattyXarope/Homework-Comp-Semantics/main/citystate.csv\"\n",
        "citystate_csv = pd.read_csv(CSV_CITYSTATE)\n",
        "\n",
        "#Set variables for comparisons of States 2 and States 2 W2V using CSV\n",
        "state2_w2v = citystate_csv['State 2  W2V']\n",
        "state2_plain = citystate_csv['State 2']\n",
        "\n",
        "#Info about \"None\" \n",
        "occurrences = Counter(state2_w2v)\n",
        "none_occurences = occurrences.get(\"None\")\n",
        "avg_none = round((none_occurences / (len(state2_w2v)) * 100))\n",
        "print(f'There were no matches for {avg_none}% ({none_occurences} instances) of {len(state2_w2v)} utterances.')\n",
        "\n",
        "\n",
        "#Accuracy without \"None\" included\n",
        "\n",
        "#Import the cleaned CSV for city state comparison with no None instances\n",
        "CSV_CITYSTATE_NO_NONE = \"https://raw.githubusercontent.com/MattyXarope/Homework-Comp-Semantics/main/citystate_no_none.csv\"\n",
        "citystate_csv_no_none = pd.read_csv(CSV_CITYSTATE_NO_NONE)\n",
        "\n",
        "#Set variables for comparisons of States 2 and States 2 W2V using CSV with no None\n",
        "state2_w2v_no_none = citystate_csv_no_none['State 2  W2V']\n",
        "state2_plain_no_none = citystate_csv_no_none['State 2']\n",
        "\n",
        "#Get accuracy of no None dataset\n",
        "accuracy = sum(1 for x,y in zip(state2_w2v_no_none,state2_plain_no_none) if x == y) / len(state2_w2v_no_none)\n",
        "accuracy2 = round(accuracy*100) \n",
        "print(f'The predictions from the Word2Vec model are {accuracy2}% accurate based on {len(state2_w2v_no_none)} utterances.')"
      ],
      "execution_count": null,
      "outputs": [
        {
          "output_type": "stream",
          "name": "stdout",
          "text": [
            "Data Analysis for Exercise 5:\n",
            "\n",
            "\n",
            "There were no matches for 36% (900 instances) of 2467 utterances.\n",
            "The predictions from the Word2Vec model are 78% accurate based on 1567 utterances.\n"
          ]
        }
      ]
    }
  ]
}